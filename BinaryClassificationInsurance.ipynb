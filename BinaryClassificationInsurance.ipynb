{
  "metadata": {
    "kernelspec": {
      "language": "python",
      "display_name": "Python 3",
      "name": "python3"
    },
    "language_info": {
      "name": "python",
      "version": "3.10.13",
      "mimetype": "text/x-python",
      "codemirror_mode": {
        "name": "ipython",
        "version": 3
      },
      "pygments_lexer": "ipython3",
      "nbconvert_exporter": "python",
      "file_extension": ".py"
    },
    "kaggle": {
      "accelerator": "gpu",
      "dataSources": [
        {
          "sourceId": 73291,
          "databundleVersionId": 8930475,
          "sourceType": "competition"
        }
      ],
      "dockerImageVersionId": 30746,
      "isInternetEnabled": true,
      "language": "python",
      "sourceType": "notebook",
      "isGpuEnabled": true
    },
    "colab": {
      "name": "BinaryClassificationInsurance",
      "provenance": []
    }
  },
  "nbformat_minor": 0,
  "nbformat": 4,
  "cells": [
    {
      "source": [
        "# IMPORTANT: SOME KAGGLE DATA SOURCES ARE PRIVATE\n",
        "# RUN THIS CELL IN ORDER TO IMPORT YOUR KAGGLE DATA SOURCES.\n",
        "import kagglehub\n",
        "kagglehub.login()\n"
      ],
      "metadata": {
        "id": "_5VmkcW7clqo"
      },
      "cell_type": "code",
      "outputs": [],
      "execution_count": null
    },
    {
      "source": [
        "# IMPORTANT: RUN THIS CELL IN ORDER TO IMPORT YOUR KAGGLE DATA SOURCES,\n",
        "# THEN FEEL FREE TO DELETE THIS CELL.\n",
        "# NOTE: THIS NOTEBOOK ENVIRONMENT DIFFERS FROM KAGGLE'S PYTHON\n",
        "# ENVIRONMENT SO THERE MAY BE MISSING LIBRARIES USED BY YOUR\n",
        "# NOTEBOOK.\n",
        "\n",
        "playground_series_s4e7_path = kagglehub.competition_download('playground-series-s4e7')\n",
        "\n",
        "print('Data source import complete.')\n"
      ],
      "metadata": {
        "id": "dMqTFPOOclqr"
      },
      "cell_type": "code",
      "outputs": [],
      "execution_count": null
    },
    {
      "cell_type": "code",
      "source": [
        "# This Python 3 environment comes with many helpful analytics libraries installed\n",
        "# It is defined by the kaggle/python Docker image: https://github.com/kaggle/docker-python\n",
        "# For example, here's several helpful packages to load\n",
        "\n",
        "import numpy as np # linear algebra\n",
        "import pandas as pd # data processing, CSV file I/O (e.g. pd.read_csv)\n",
        "\n",
        "# Input data fil es are available in the read-only \"../input/\" directory\n",
        "# For example, running this (by clicking run or pressing Shift+Enter) will list all files under the input directory\n",
        "\n",
        "import os\n",
        "for dirname, _, filenames in os.walk('/kaggle/input'):\n",
        "    for filename in filenames:\n",
        "        print(os.path.join(dirname, filename))\n",
        "\n",
        "# You can write up to 20GB to the current directory (/kaggle/working/) that gets preserved as output when you create a version using \"Save & Run All\"\n",
        "# You can also write temporary files to /kaggle/temp/, but they won't be saved outside of the current session"
      ],
      "metadata": {
        "_uuid": "8f2839f25d086af736a60e9eeb907d3b93b6e0e5",
        "_cell_guid": "b1076dfc-b9ad-4769-8c92-a6c4dae69d19",
        "execution": {
          "iopub.status.busy": "2024-07-31T12:05:25.80632Z",
          "iopub.execute_input": "2024-07-31T12:05:25.806677Z",
          "iopub.status.idle": "2024-07-31T12:05:26.864527Z",
          "shell.execute_reply.started": "2024-07-31T12:05:25.806646Z",
          "shell.execute_reply": "2024-07-31T12:05:26.863544Z"
        },
        "trusted": true,
        "id": "F_dEIKSxclqs",
        "outputId": "7c05297f-d43f-4aeb-b80a-9e3eb1575af9"
      },
      "outputs": [
        {
          "name": "stdout",
          "text": "/kaggle/input/playground-series-s4e7/sample_submission.csv\n/kaggle/input/playground-series-s4e7/train.csv\n/kaggle/input/playground-series-s4e7/test.csv\n",
          "output_type": "stream"
        }
      ],
      "execution_count": null
    },
    {
      "cell_type": "code",
      "source": [
        "import pandas as pd"
      ],
      "metadata": {
        "execution": {
          "iopub.status.busy": "2024-07-31T12:05:26.866181Z",
          "iopub.execute_input": "2024-07-31T12:05:26.866574Z",
          "iopub.status.idle": "2024-07-31T12:05:26.870603Z",
          "shell.execute_reply.started": "2024-07-31T12:05:26.866549Z",
          "shell.execute_reply": "2024-07-31T12:05:26.869724Z"
        },
        "trusted": true,
        "id": "rrdF2hbFclqt"
      },
      "outputs": [],
      "execution_count": null
    },
    {
      "cell_type": "code",
      "source": [
        "df_train=pd.read_csv(\"/kaggle/input/playground-series-s4e7/train.csv\")\n",
        "df_train"
      ],
      "metadata": {
        "execution": {
          "iopub.status.busy": "2024-07-31T12:05:26.871741Z",
          "iopub.execute_input": "2024-07-31T12:05:26.872099Z",
          "iopub.status.idle": "2024-07-31T12:05:47.71262Z",
          "shell.execute_reply.started": "2024-07-31T12:05:26.872069Z",
          "shell.execute_reply": "2024-07-31T12:05:47.711717Z"
        },
        "trusted": true,
        "id": "4ELY8swGclqu",
        "outputId": "bead34a0-cea4-4645-9c79-18ddf1d085cf"
      },
      "outputs": [
        {
          "execution_count": 4,
          "output_type": "execute_result",
          "data": {
            "text/plain": "                id  Gender  Age  Driving_License  Region_Code  \\\n0                0    Male   21                1         35.0   \n1                1    Male   43                1         28.0   \n2                2  Female   25                1         14.0   \n3                3  Female   35                1          1.0   \n4                4  Female   36                1         15.0   \n...            ...     ...  ...              ...          ...   \n11504793  11504793    Male   48                1          6.0   \n11504794  11504794  Female   26                1         36.0   \n11504795  11504795  Female   29                1         32.0   \n11504796  11504796  Female   51                1         28.0   \n11504797  11504797    Male   25                1         28.0   \n\n          Previously_Insured Vehicle_Age Vehicle_Damage  Annual_Premium  \\\n0                          0    1-2 Year            Yes         65101.0   \n1                          0   > 2 Years            Yes         58911.0   \n2                          1    < 1 Year             No         38043.0   \n3                          0    1-2 Year            Yes          2630.0   \n4                          1    1-2 Year             No         31951.0   \n...                      ...         ...            ...             ...   \n11504793                   0    1-2 Year            Yes         27412.0   \n11504794                   0    < 1 Year            Yes         29509.0   \n11504795                   1    < 1 Year             No          2630.0   \n11504796                   0    1-2 Year            Yes         48443.0   \n11504797                   1    < 1 Year             No         32855.0   \n\n          Policy_Sales_Channel  Vintage  Response  \n0                        124.0      187         0  \n1                         26.0      288         1  \n2                        152.0      254         0  \n3                        156.0       76         0  \n4                        152.0      294         0  \n...                        ...      ...       ...  \n11504793                  26.0      218         0  \n11504794                 152.0      115         1  \n11504795                 152.0      189         0  \n11504796                  26.0      274         1  \n11504797                 152.0      189         0  \n\n[11504798 rows x 12 columns]",
            "text/html": "<div>\n<style scoped>\n    .dataframe tbody tr th:only-of-type {\n        vertical-align: middle;\n    }\n\n    .dataframe tbody tr th {\n        vertical-align: top;\n    }\n\n    .dataframe thead th {\n        text-align: right;\n    }\n</style>\n<table border=\"1\" class=\"dataframe\">\n  <thead>\n    <tr style=\"text-align: right;\">\n      <th></th>\n      <th>id</th>\n      <th>Gender</th>\n      <th>Age</th>\n      <th>Driving_License</th>\n      <th>Region_Code</th>\n      <th>Previously_Insured</th>\n      <th>Vehicle_Age</th>\n      <th>Vehicle_Damage</th>\n      <th>Annual_Premium</th>\n      <th>Policy_Sales_Channel</th>\n      <th>Vintage</th>\n      <th>Response</th>\n    </tr>\n  </thead>\n  <tbody>\n    <tr>\n      <th>0</th>\n      <td>0</td>\n      <td>Male</td>\n      <td>21</td>\n      <td>1</td>\n      <td>35.0</td>\n      <td>0</td>\n      <td>1-2 Year</td>\n      <td>Yes</td>\n      <td>65101.0</td>\n      <td>124.0</td>\n      <td>187</td>\n      <td>0</td>\n    </tr>\n    <tr>\n      <th>1</th>\n      <td>1</td>\n      <td>Male</td>\n      <td>43</td>\n      <td>1</td>\n      <td>28.0</td>\n      <td>0</td>\n      <td>&gt; 2 Years</td>\n      <td>Yes</td>\n      <td>58911.0</td>\n      <td>26.0</td>\n      <td>288</td>\n      <td>1</td>\n    </tr>\n    <tr>\n      <th>2</th>\n      <td>2</td>\n      <td>Female</td>\n      <td>25</td>\n      <td>1</td>\n      <td>14.0</td>\n      <td>1</td>\n      <td>&lt; 1 Year</td>\n      <td>No</td>\n      <td>38043.0</td>\n      <td>152.0</td>\n      <td>254</td>\n      <td>0</td>\n    </tr>\n    <tr>\n      <th>3</th>\n      <td>3</td>\n      <td>Female</td>\n      <td>35</td>\n      <td>1</td>\n      <td>1.0</td>\n      <td>0</td>\n      <td>1-2 Year</td>\n      <td>Yes</td>\n      <td>2630.0</td>\n      <td>156.0</td>\n      <td>76</td>\n      <td>0</td>\n    </tr>\n    <tr>\n      <th>4</th>\n      <td>4</td>\n      <td>Female</td>\n      <td>36</td>\n      <td>1</td>\n      <td>15.0</td>\n      <td>1</td>\n      <td>1-2 Year</td>\n      <td>No</td>\n      <td>31951.0</td>\n      <td>152.0</td>\n      <td>294</td>\n      <td>0</td>\n    </tr>\n    <tr>\n      <th>...</th>\n      <td>...</td>\n      <td>...</td>\n      <td>...</td>\n      <td>...</td>\n      <td>...</td>\n      <td>...</td>\n      <td>...</td>\n      <td>...</td>\n      <td>...</td>\n      <td>...</td>\n      <td>...</td>\n      <td>...</td>\n    </tr>\n    <tr>\n      <th>11504793</th>\n      <td>11504793</td>\n      <td>Male</td>\n      <td>48</td>\n      <td>1</td>\n      <td>6.0</td>\n      <td>0</td>\n      <td>1-2 Year</td>\n      <td>Yes</td>\n      <td>27412.0</td>\n      <td>26.0</td>\n      <td>218</td>\n      <td>0</td>\n    </tr>\n    <tr>\n      <th>11504794</th>\n      <td>11504794</td>\n      <td>Female</td>\n      <td>26</td>\n      <td>1</td>\n      <td>36.0</td>\n      <td>0</td>\n      <td>&lt; 1 Year</td>\n      <td>Yes</td>\n      <td>29509.0</td>\n      <td>152.0</td>\n      <td>115</td>\n      <td>1</td>\n    </tr>\n    <tr>\n      <th>11504795</th>\n      <td>11504795</td>\n      <td>Female</td>\n      <td>29</td>\n      <td>1</td>\n      <td>32.0</td>\n      <td>1</td>\n      <td>&lt; 1 Year</td>\n      <td>No</td>\n      <td>2630.0</td>\n      <td>152.0</td>\n      <td>189</td>\n      <td>0</td>\n    </tr>\n    <tr>\n      <th>11504796</th>\n      <td>11504796</td>\n      <td>Female</td>\n      <td>51</td>\n      <td>1</td>\n      <td>28.0</td>\n      <td>0</td>\n      <td>1-2 Year</td>\n      <td>Yes</td>\n      <td>48443.0</td>\n      <td>26.0</td>\n      <td>274</td>\n      <td>1</td>\n    </tr>\n    <tr>\n      <th>11504797</th>\n      <td>11504797</td>\n      <td>Male</td>\n      <td>25</td>\n      <td>1</td>\n      <td>28.0</td>\n      <td>1</td>\n      <td>&lt; 1 Year</td>\n      <td>No</td>\n      <td>32855.0</td>\n      <td>152.0</td>\n      <td>189</td>\n      <td>0</td>\n    </tr>\n  </tbody>\n</table>\n<p>11504798 rows × 12 columns</p>\n</div>"
          },
          "metadata": {}
        }
      ],
      "execution_count": null
    },
    {
      "cell_type": "code",
      "source": [
        "df_train.info()"
      ],
      "metadata": {
        "execution": {
          "iopub.status.busy": "2024-07-31T12:05:47.715164Z",
          "iopub.execute_input": "2024-07-31T12:05:47.71544Z",
          "iopub.status.idle": "2024-07-31T12:05:47.734739Z",
          "shell.execute_reply.started": "2024-07-31T12:05:47.715415Z",
          "shell.execute_reply": "2024-07-31T12:05:47.733719Z"
        },
        "trusted": true,
        "id": "qCJ0SYm4clqu",
        "outputId": "59c7351b-aace-487a-f6df-7fb546b340ce"
      },
      "outputs": [
        {
          "name": "stdout",
          "text": "<class 'pandas.core.frame.DataFrame'>\nRangeIndex: 11504798 entries, 0 to 11504797\nData columns (total 12 columns):\n #   Column                Dtype  \n---  ------                -----  \n 0   id                    int64  \n 1   Gender                object \n 2   Age                   int64  \n 3   Driving_License       int64  \n 4   Region_Code           float64\n 5   Previously_Insured    int64  \n 6   Vehicle_Age           object \n 7   Vehicle_Damage        object \n 8   Annual_Premium        float64\n 9   Policy_Sales_Channel  float64\n 10  Vintage               int64  \n 11  Response              int64  \ndtypes: float64(3), int64(6), object(3)\nmemory usage: 1.0+ GB\n",
          "output_type": "stream"
        }
      ],
      "execution_count": null
    },
    {
      "cell_type": "code",
      "source": [
        "df_test=pd.read_csv(\"/kaggle/input/playground-series-s4e7/test.csv\")\n",
        "df_test.head(2)"
      ],
      "metadata": {
        "execution": {
          "iopub.status.busy": "2024-07-31T12:05:47.735931Z",
          "iopub.execute_input": "2024-07-31T12:05:47.736233Z",
          "iopub.status.idle": "2024-07-31T12:06:00.937237Z",
          "shell.execute_reply.started": "2024-07-31T12:05:47.736209Z",
          "shell.execute_reply": "2024-07-31T12:06:00.936025Z"
        },
        "trusted": true,
        "id": "tituafSGclqv",
        "outputId": "adf5004d-32a9-4d08-c34d-dafea1e4a1dc"
      },
      "outputs": [
        {
          "execution_count": 6,
          "output_type": "execute_result",
          "data": {
            "text/plain": "         id  Gender  Age  Driving_License  Region_Code  Previously_Insured  \\\n0  11504798  Female   20                1         47.0                   0   \n1  11504799    Male   47                1         28.0                   0   \n\n  Vehicle_Age Vehicle_Damage  Annual_Premium  Policy_Sales_Channel  Vintage  \n0    < 1 Year             No          2630.0                 160.0      228  \n1    1-2 Year            Yes         37483.0                 124.0      123  ",
            "text/html": "<div>\n<style scoped>\n    .dataframe tbody tr th:only-of-type {\n        vertical-align: middle;\n    }\n\n    .dataframe tbody tr th {\n        vertical-align: top;\n    }\n\n    .dataframe thead th {\n        text-align: right;\n    }\n</style>\n<table border=\"1\" class=\"dataframe\">\n  <thead>\n    <tr style=\"text-align: right;\">\n      <th></th>\n      <th>id</th>\n      <th>Gender</th>\n      <th>Age</th>\n      <th>Driving_License</th>\n      <th>Region_Code</th>\n      <th>Previously_Insured</th>\n      <th>Vehicle_Age</th>\n      <th>Vehicle_Damage</th>\n      <th>Annual_Premium</th>\n      <th>Policy_Sales_Channel</th>\n      <th>Vintage</th>\n    </tr>\n  </thead>\n  <tbody>\n    <tr>\n      <th>0</th>\n      <td>11504798</td>\n      <td>Female</td>\n      <td>20</td>\n      <td>1</td>\n      <td>47.0</td>\n      <td>0</td>\n      <td>&lt; 1 Year</td>\n      <td>No</td>\n      <td>2630.0</td>\n      <td>160.0</td>\n      <td>228</td>\n    </tr>\n    <tr>\n      <th>1</th>\n      <td>11504799</td>\n      <td>Male</td>\n      <td>47</td>\n      <td>1</td>\n      <td>28.0</td>\n      <td>0</td>\n      <td>1-2 Year</td>\n      <td>Yes</td>\n      <td>37483.0</td>\n      <td>124.0</td>\n      <td>123</td>\n    </tr>\n  </tbody>\n</table>\n</div>"
          },
          "metadata": {}
        }
      ],
      "execution_count": null
    },
    {
      "cell_type": "code",
      "source": [
        "from sklearn.preprocessing import OneHotEncoder,LabelEncoder"
      ],
      "metadata": {
        "execution": {
          "iopub.status.busy": "2024-07-31T12:06:00.938645Z",
          "iopub.execute_input": "2024-07-31T12:06:00.939008Z",
          "iopub.status.idle": "2024-07-31T12:06:02.026517Z",
          "shell.execute_reply.started": "2024-07-31T12:06:00.938976Z",
          "shell.execute_reply": "2024-07-31T12:06:02.025608Z"
        },
        "trusted": true,
        "id": "ZaG66_9bclqw"
      },
      "outputs": [],
      "execution_count": null
    },
    {
      "cell_type": "markdown",
      "source": [
        "# EDA"
      ],
      "metadata": {
        "id": "gLEsdkYLclqw"
      }
    },
    {
      "cell_type": "code",
      "source": [
        "df_train"
      ],
      "metadata": {
        "execution": {
          "iopub.status.busy": "2024-07-31T12:06:02.028061Z",
          "iopub.execute_input": "2024-07-31T12:06:02.028655Z",
          "iopub.status.idle": "2024-07-31T12:06:02.052941Z",
          "shell.execute_reply.started": "2024-07-31T12:06:02.028616Z",
          "shell.execute_reply": "2024-07-31T12:06:02.051858Z"
        },
        "trusted": true,
        "id": "gglAaetqclqy",
        "outputId": "098be4ae-3c26-4f13-f483-29ed2c0a2ee0"
      },
      "outputs": [
        {
          "execution_count": 8,
          "output_type": "execute_result",
          "data": {
            "text/plain": "                id  Gender  Age  Driving_License  Region_Code  \\\n0                0    Male   21                1         35.0   \n1                1    Male   43                1         28.0   \n2                2  Female   25                1         14.0   \n3                3  Female   35                1          1.0   \n4                4  Female   36                1         15.0   \n...            ...     ...  ...              ...          ...   \n11504793  11504793    Male   48                1          6.0   \n11504794  11504794  Female   26                1         36.0   \n11504795  11504795  Female   29                1         32.0   \n11504796  11504796  Female   51                1         28.0   \n11504797  11504797    Male   25                1         28.0   \n\n          Previously_Insured Vehicle_Age Vehicle_Damage  Annual_Premium  \\\n0                          0    1-2 Year            Yes         65101.0   \n1                          0   > 2 Years            Yes         58911.0   \n2                          1    < 1 Year             No         38043.0   \n3                          0    1-2 Year            Yes          2630.0   \n4                          1    1-2 Year             No         31951.0   \n...                      ...         ...            ...             ...   \n11504793                   0    1-2 Year            Yes         27412.0   \n11504794                   0    < 1 Year            Yes         29509.0   \n11504795                   1    < 1 Year             No          2630.0   \n11504796                   0    1-2 Year            Yes         48443.0   \n11504797                   1    < 1 Year             No         32855.0   \n\n          Policy_Sales_Channel  Vintage  Response  \n0                        124.0      187         0  \n1                         26.0      288         1  \n2                        152.0      254         0  \n3                        156.0       76         0  \n4                        152.0      294         0  \n...                        ...      ...       ...  \n11504793                  26.0      218         0  \n11504794                 152.0      115         1  \n11504795                 152.0      189         0  \n11504796                  26.0      274         1  \n11504797                 152.0      189         0  \n\n[11504798 rows x 12 columns]",
            "text/html": "<div>\n<style scoped>\n    .dataframe tbody tr th:only-of-type {\n        vertical-align: middle;\n    }\n\n    .dataframe tbody tr th {\n        vertical-align: top;\n    }\n\n    .dataframe thead th {\n        text-align: right;\n    }\n</style>\n<table border=\"1\" class=\"dataframe\">\n  <thead>\n    <tr style=\"text-align: right;\">\n      <th></th>\n      <th>id</th>\n      <th>Gender</th>\n      <th>Age</th>\n      <th>Driving_License</th>\n      <th>Region_Code</th>\n      <th>Previously_Insured</th>\n      <th>Vehicle_Age</th>\n      <th>Vehicle_Damage</th>\n      <th>Annual_Premium</th>\n      <th>Policy_Sales_Channel</th>\n      <th>Vintage</th>\n      <th>Response</th>\n    </tr>\n  </thead>\n  <tbody>\n    <tr>\n      <th>0</th>\n      <td>0</td>\n      <td>Male</td>\n      <td>21</td>\n      <td>1</td>\n      <td>35.0</td>\n      <td>0</td>\n      <td>1-2 Year</td>\n      <td>Yes</td>\n      <td>65101.0</td>\n      <td>124.0</td>\n      <td>187</td>\n      <td>0</td>\n    </tr>\n    <tr>\n      <th>1</th>\n      <td>1</td>\n      <td>Male</td>\n      <td>43</td>\n      <td>1</td>\n      <td>28.0</td>\n      <td>0</td>\n      <td>&gt; 2 Years</td>\n      <td>Yes</td>\n      <td>58911.0</td>\n      <td>26.0</td>\n      <td>288</td>\n      <td>1</td>\n    </tr>\n    <tr>\n      <th>2</th>\n      <td>2</td>\n      <td>Female</td>\n      <td>25</td>\n      <td>1</td>\n      <td>14.0</td>\n      <td>1</td>\n      <td>&lt; 1 Year</td>\n      <td>No</td>\n      <td>38043.0</td>\n      <td>152.0</td>\n      <td>254</td>\n      <td>0</td>\n    </tr>\n    <tr>\n      <th>3</th>\n      <td>3</td>\n      <td>Female</td>\n      <td>35</td>\n      <td>1</td>\n      <td>1.0</td>\n      <td>0</td>\n      <td>1-2 Year</td>\n      <td>Yes</td>\n      <td>2630.0</td>\n      <td>156.0</td>\n      <td>76</td>\n      <td>0</td>\n    </tr>\n    <tr>\n      <th>4</th>\n      <td>4</td>\n      <td>Female</td>\n      <td>36</td>\n      <td>1</td>\n      <td>15.0</td>\n      <td>1</td>\n      <td>1-2 Year</td>\n      <td>No</td>\n      <td>31951.0</td>\n      <td>152.0</td>\n      <td>294</td>\n      <td>0</td>\n    </tr>\n    <tr>\n      <th>...</th>\n      <td>...</td>\n      <td>...</td>\n      <td>...</td>\n      <td>...</td>\n      <td>...</td>\n      <td>...</td>\n      <td>...</td>\n      <td>...</td>\n      <td>...</td>\n      <td>...</td>\n      <td>...</td>\n      <td>...</td>\n    </tr>\n    <tr>\n      <th>11504793</th>\n      <td>11504793</td>\n      <td>Male</td>\n      <td>48</td>\n      <td>1</td>\n      <td>6.0</td>\n      <td>0</td>\n      <td>1-2 Year</td>\n      <td>Yes</td>\n      <td>27412.0</td>\n      <td>26.0</td>\n      <td>218</td>\n      <td>0</td>\n    </tr>\n    <tr>\n      <th>11504794</th>\n      <td>11504794</td>\n      <td>Female</td>\n      <td>26</td>\n      <td>1</td>\n      <td>36.0</td>\n      <td>0</td>\n      <td>&lt; 1 Year</td>\n      <td>Yes</td>\n      <td>29509.0</td>\n      <td>152.0</td>\n      <td>115</td>\n      <td>1</td>\n    </tr>\n    <tr>\n      <th>11504795</th>\n      <td>11504795</td>\n      <td>Female</td>\n      <td>29</td>\n      <td>1</td>\n      <td>32.0</td>\n      <td>1</td>\n      <td>&lt; 1 Year</td>\n      <td>No</td>\n      <td>2630.0</td>\n      <td>152.0</td>\n      <td>189</td>\n      <td>0</td>\n    </tr>\n    <tr>\n      <th>11504796</th>\n      <td>11504796</td>\n      <td>Female</td>\n      <td>51</td>\n      <td>1</td>\n      <td>28.0</td>\n      <td>0</td>\n      <td>1-2 Year</td>\n      <td>Yes</td>\n      <td>48443.0</td>\n      <td>26.0</td>\n      <td>274</td>\n      <td>1</td>\n    </tr>\n    <tr>\n      <th>11504797</th>\n      <td>11504797</td>\n      <td>Male</td>\n      <td>25</td>\n      <td>1</td>\n      <td>28.0</td>\n      <td>1</td>\n      <td>&lt; 1 Year</td>\n      <td>No</td>\n      <td>32855.0</td>\n      <td>152.0</td>\n      <td>189</td>\n      <td>0</td>\n    </tr>\n  </tbody>\n</table>\n<p>11504798 rows × 12 columns</p>\n</div>"
          },
          "metadata": {}
        }
      ],
      "execution_count": null
    },
    {
      "cell_type": "markdown",
      "source": [
        "# Encoding"
      ],
      "metadata": {
        "id": "6BXjoay-clqz"
      }
    },
    {
      "cell_type": "code",
      "source": [
        "labelencoder=LabelEncoder()\n",
        "columnstoencode=['Gender','Vehicle_Damage']\n",
        "for i in columnstoencode:\n",
        "    df_train[i]=labelencoder.fit_transform(df_train[i])\n",
        "    df_test[i]=labelencoder.fit_transform(df_test[i])\n",
        "\n",
        "df_test.head(2)"
      ],
      "metadata": {
        "execution": {
          "iopub.status.busy": "2024-07-31T12:06:02.054418Z",
          "iopub.execute_input": "2024-07-31T12:06:02.055005Z",
          "iopub.status.idle": "2024-07-31T12:06:11.515512Z",
          "shell.execute_reply.started": "2024-07-31T12:06:02.054973Z",
          "shell.execute_reply": "2024-07-31T12:06:11.514581Z"
        },
        "trusted": true,
        "id": "Uo8PE3k8clqz",
        "outputId": "a13b5cf2-e298-478a-9082-6b5b7cf25e15"
      },
      "outputs": [
        {
          "execution_count": 9,
          "output_type": "execute_result",
          "data": {
            "text/plain": "         id  Gender  Age  Driving_License  Region_Code  Previously_Insured  \\\n0  11504798       0   20                1         47.0                   0   \n1  11504799       1   47                1         28.0                   0   \n\n  Vehicle_Age  Vehicle_Damage  Annual_Premium  Policy_Sales_Channel  Vintage  \n0    < 1 Year               0          2630.0                 160.0      228  \n1    1-2 Year               1         37483.0                 124.0      123  ",
            "text/html": "<div>\n<style scoped>\n    .dataframe tbody tr th:only-of-type {\n        vertical-align: middle;\n    }\n\n    .dataframe tbody tr th {\n        vertical-align: top;\n    }\n\n    .dataframe thead th {\n        text-align: right;\n    }\n</style>\n<table border=\"1\" class=\"dataframe\">\n  <thead>\n    <tr style=\"text-align: right;\">\n      <th></th>\n      <th>id</th>\n      <th>Gender</th>\n      <th>Age</th>\n      <th>Driving_License</th>\n      <th>Region_Code</th>\n      <th>Previously_Insured</th>\n      <th>Vehicle_Age</th>\n      <th>Vehicle_Damage</th>\n      <th>Annual_Premium</th>\n      <th>Policy_Sales_Channel</th>\n      <th>Vintage</th>\n    </tr>\n  </thead>\n  <tbody>\n    <tr>\n      <th>0</th>\n      <td>11504798</td>\n      <td>0</td>\n      <td>20</td>\n      <td>1</td>\n      <td>47.0</td>\n      <td>0</td>\n      <td>&lt; 1 Year</td>\n      <td>0</td>\n      <td>2630.0</td>\n      <td>160.0</td>\n      <td>228</td>\n    </tr>\n    <tr>\n      <th>1</th>\n      <td>11504799</td>\n      <td>1</td>\n      <td>47</td>\n      <td>1</td>\n      <td>28.0</td>\n      <td>0</td>\n      <td>1-2 Year</td>\n      <td>1</td>\n      <td>37483.0</td>\n      <td>124.0</td>\n      <td>123</td>\n    </tr>\n  </tbody>\n</table>\n</div>"
          },
          "metadata": {}
        }
      ],
      "execution_count": null
    },
    {
      "cell_type": "code",
      "source": [
        "df_train=pd.get_dummies(df_train)\n",
        "df_test=pd.get_dummies(df_test)\n",
        "df_train.head(2)"
      ],
      "metadata": {
        "execution": {
          "iopub.status.busy": "2024-07-31T12:06:11.516876Z",
          "iopub.execute_input": "2024-07-31T12:06:11.51717Z",
          "iopub.status.idle": "2024-07-31T12:06:15.816655Z",
          "shell.execute_reply.started": "2024-07-31T12:06:11.517147Z",
          "shell.execute_reply": "2024-07-31T12:06:15.815772Z"
        },
        "trusted": true,
        "id": "fbrcpxUOclqz",
        "outputId": "45b369e5-fd0c-46a6-b61a-3f1380cf59e8"
      },
      "outputs": [
        {
          "execution_count": 10,
          "output_type": "execute_result",
          "data": {
            "text/plain": "   id  Gender  Age  Driving_License  Region_Code  Previously_Insured  \\\n0   0       1   21                1         35.0                   0   \n1   1       1   43                1         28.0                   0   \n\n   Vehicle_Damage  Annual_Premium  Policy_Sales_Channel  Vintage  Response  \\\n0               1         65101.0                 124.0      187         0   \n1               1         58911.0                  26.0      288         1   \n\n   Vehicle_Age_1-2 Year  Vehicle_Age_< 1 Year  Vehicle_Age_> 2 Years  \n0                  True                 False                  False  \n1                 False                 False                   True  ",
            "text/html": "<div>\n<style scoped>\n    .dataframe tbody tr th:only-of-type {\n        vertical-align: middle;\n    }\n\n    .dataframe tbody tr th {\n        vertical-align: top;\n    }\n\n    .dataframe thead th {\n        text-align: right;\n    }\n</style>\n<table border=\"1\" class=\"dataframe\">\n  <thead>\n    <tr style=\"text-align: right;\">\n      <th></th>\n      <th>id</th>\n      <th>Gender</th>\n      <th>Age</th>\n      <th>Driving_License</th>\n      <th>Region_Code</th>\n      <th>Previously_Insured</th>\n      <th>Vehicle_Damage</th>\n      <th>Annual_Premium</th>\n      <th>Policy_Sales_Channel</th>\n      <th>Vintage</th>\n      <th>Response</th>\n      <th>Vehicle_Age_1-2 Year</th>\n      <th>Vehicle_Age_&lt; 1 Year</th>\n      <th>Vehicle_Age_&gt; 2 Years</th>\n    </tr>\n  </thead>\n  <tbody>\n    <tr>\n      <th>0</th>\n      <td>0</td>\n      <td>1</td>\n      <td>21</td>\n      <td>1</td>\n      <td>35.0</td>\n      <td>0</td>\n      <td>1</td>\n      <td>65101.0</td>\n      <td>124.0</td>\n      <td>187</td>\n      <td>0</td>\n      <td>True</td>\n      <td>False</td>\n      <td>False</td>\n    </tr>\n    <tr>\n      <th>1</th>\n      <td>1</td>\n      <td>1</td>\n      <td>43</td>\n      <td>1</td>\n      <td>28.0</td>\n      <td>0</td>\n      <td>1</td>\n      <td>58911.0</td>\n      <td>26.0</td>\n      <td>288</td>\n      <td>1</td>\n      <td>False</td>\n      <td>False</td>\n      <td>True</td>\n    </tr>\n  </tbody>\n</table>\n</div>"
          },
          "metadata": {}
        }
      ],
      "execution_count": null
    },
    {
      "cell_type": "code",
      "source": [
        "df_train.info()"
      ],
      "metadata": {
        "execution": {
          "iopub.status.busy": "2024-07-31T12:06:15.819624Z",
          "iopub.execute_input": "2024-07-31T12:06:15.819918Z",
          "iopub.status.idle": "2024-07-31T12:06:15.829614Z",
          "shell.execute_reply.started": "2024-07-31T12:06:15.819895Z",
          "shell.execute_reply": "2024-07-31T12:06:15.828739Z"
        },
        "trusted": true,
        "id": "sDaYcPFsclq0",
        "outputId": "11fc4465-f5f3-4f11-95e1-9b926e2e341c"
      },
      "outputs": [
        {
          "name": "stdout",
          "text": "<class 'pandas.core.frame.DataFrame'>\nRangeIndex: 11504798 entries, 0 to 11504797\nData columns (total 14 columns):\n #   Column                 Dtype  \n---  ------                 -----  \n 0   id                     int64  \n 1   Gender                 int64  \n 2   Age                    int64  \n 3   Driving_License        int64  \n 4   Region_Code            float64\n 5   Previously_Insured     int64  \n 6   Vehicle_Damage         int64  \n 7   Annual_Premium         float64\n 8   Policy_Sales_Channel   float64\n 9   Vintage                int64  \n 10  Response               int64  \n 11  Vehicle_Age_1-2 Year   bool   \n 12  Vehicle_Age_< 1 Year   bool   \n 13  Vehicle_Age_> 2 Years  bool   \ndtypes: bool(3), float64(3), int64(8)\nmemory usage: 998.4 MB\n",
          "output_type": "stream"
        }
      ],
      "execution_count": null
    },
    {
      "cell_type": "code",
      "source": [
        "df_train['Vehicle_Age_1-2 Year']=df_train['Vehicle_Age_1-2 Year'].astype(int)\n",
        "df_train['Vehicle_Age_< 1 Year']=df_train['Vehicle_Age_< 1 Year'].astype(int)\n",
        "df_train['Vehicle_Age_> 2 Years']=df_train['Vehicle_Age_> 2 Years'].astype(int)"
      ],
      "metadata": {
        "execution": {
          "iopub.status.busy": "2024-07-31T12:06:15.830764Z",
          "iopub.execute_input": "2024-07-31T12:06:15.831111Z",
          "iopub.status.idle": "2024-07-31T12:06:16.01623Z",
          "shell.execute_reply.started": "2024-07-31T12:06:15.83108Z",
          "shell.execute_reply": "2024-07-31T12:06:16.015181Z"
        },
        "trusted": true,
        "id": "JxTzv3VNclq1"
      },
      "outputs": [],
      "execution_count": null
    },
    {
      "cell_type": "code",
      "source": [
        "df_test['Vehicle_Age_1-2 Year']=df_test['Vehicle_Age_1-2 Year'].astype(int)\n",
        "df_test['Vehicle_Age_< 1 Year']=df_test['Vehicle_Age_< 1 Year'].astype(int)\n",
        "df_test['Vehicle_Age_> 2 Years']=df_test['Vehicle_Age_> 2 Years'].astype(int)"
      ],
      "metadata": {
        "execution": {
          "iopub.status.busy": "2024-07-31T12:06:16.017561Z",
          "iopub.execute_input": "2024-07-31T12:06:16.018267Z",
          "iopub.status.idle": "2024-07-31T12:06:16.142494Z",
          "shell.execute_reply.started": "2024-07-31T12:06:16.018231Z",
          "shell.execute_reply": "2024-07-31T12:06:16.141513Z"
        },
        "trusted": true,
        "id": "S5xhtR46clq1"
      },
      "outputs": [],
      "execution_count": null
    },
    {
      "cell_type": "code",
      "source": [
        "from sklearn.model_selection import *"
      ],
      "metadata": {
        "execution": {
          "iopub.status.busy": "2024-07-31T12:06:16.143728Z",
          "iopub.execute_input": "2024-07-31T12:06:16.145148Z",
          "iopub.status.idle": "2024-07-31T12:06:16.229325Z",
          "shell.execute_reply.started": "2024-07-31T12:06:16.145114Z",
          "shell.execute_reply": "2024-07-31T12:06:16.228328Z"
        },
        "trusted": true,
        "id": "20AsEKpyclq1"
      },
      "outputs": [],
      "execution_count": null
    },
    {
      "cell_type": "code",
      "source": [
        "X=df_train.drop(['Response'],axis=1)\n",
        "y=df_train['Response']"
      ],
      "metadata": {
        "execution": {
          "iopub.status.busy": "2024-07-31T12:06:16.230527Z",
          "iopub.execute_input": "2024-07-31T12:06:16.230813Z",
          "iopub.status.idle": "2024-07-31T12:06:16.657033Z",
          "shell.execute_reply.started": "2024-07-31T12:06:16.230789Z",
          "shell.execute_reply": "2024-07-31T12:06:16.656255Z"
        },
        "trusted": true,
        "id": "jTg8YZ5Qclq1"
      },
      "outputs": [],
      "execution_count": null
    },
    {
      "cell_type": "code",
      "source": [
        "from sklearn.preprocessing import StandardScaler"
      ],
      "metadata": {
        "execution": {
          "iopub.status.busy": "2024-07-31T12:06:16.658033Z",
          "iopub.execute_input": "2024-07-31T12:06:16.658282Z",
          "iopub.status.idle": "2024-07-31T12:06:16.66252Z",
          "shell.execute_reply.started": "2024-07-31T12:06:16.65826Z",
          "shell.execute_reply": "2024-07-31T12:06:16.66161Z"
        },
        "trusted": true,
        "id": "4CpBnNm3clq1"
      },
      "outputs": [],
      "execution_count": null
    },
    {
      "cell_type": "code",
      "source": [
        "X_train,X_test,y_train,y_test=train_test_split(X,y,test_size=0.2)"
      ],
      "metadata": {
        "execution": {
          "iopub.status.busy": "2024-07-31T12:06:16.663556Z",
          "iopub.execute_input": "2024-07-31T12:06:16.663809Z",
          "iopub.status.idle": "2024-07-31T12:06:19.875213Z",
          "shell.execute_reply.started": "2024-07-31T12:06:16.663787Z",
          "shell.execute_reply": "2024-07-31T12:06:19.874437Z"
        },
        "trusted": true,
        "id": "o5L-U-_aclq1"
      },
      "outputs": [],
      "execution_count": null
    },
    {
      "cell_type": "code",
      "source": [
        "stanscalar=StandardScaler()\n",
        "X_train=stanscalar.fit_transform(X_train)\n",
        "X_test=stanscalar.transform(X_test)"
      ],
      "metadata": {
        "execution": {
          "iopub.status.busy": "2024-07-31T12:06:19.876226Z",
          "iopub.execute_input": "2024-07-31T12:06:19.876493Z",
          "iopub.status.idle": "2024-07-31T12:06:22.206871Z",
          "shell.execute_reply.started": "2024-07-31T12:06:19.876471Z",
          "shell.execute_reply": "2024-07-31T12:06:22.206081Z"
        },
        "trusted": true,
        "id": "fK0_9v5fclq1"
      },
      "outputs": [],
      "execution_count": null
    },
    {
      "cell_type": "code",
      "source": [
        "X=stanscalar.fit_transform(X)\n",
        "df_test=stanscalar.transform(df_test)\n"
      ],
      "metadata": {
        "execution": {
          "iopub.status.busy": "2024-07-31T12:06:22.207901Z",
          "iopub.execute_input": "2024-07-31T12:06:22.20815Z",
          "iopub.status.idle": "2024-07-31T12:06:25.513359Z",
          "shell.execute_reply.started": "2024-07-31T12:06:22.208129Z",
          "shell.execute_reply": "2024-07-31T12:06:25.512573Z"
        },
        "trusted": true,
        "id": "bkwxa3Baclq1"
      },
      "outputs": [],
      "execution_count": null
    },
    {
      "cell_type": "markdown",
      "source": [
        "# XGBoost model\n",
        "with best hyperparameters"
      ],
      "metadata": {
        "id": "iKxXASUmclq2"
      }
    },
    {
      "cell_type": "code",
      "source": [
        "#best till now\n",
        "from xgboost import XGBClassifier\n",
        "xgb_model = XGBClassifier(colsample_bytree= 0.5911180438940311,gamma=3.7768070515882624,\n",
        "                          learning_rate=0.13329520360246094,max_depth=8,\n",
        "                          min_child_weight=4,n_estimators=359,\n",
        "                          subsample=0.5156566462277793)\n",
        "\n",
        "# Train the model\n",
        "xgb_model.fit(X,y)\n",
        "\n",
        "# Make predictions on the test data\n",
        "y_pred1 = xgb_model.predict(X_test)\n",
        "\n"
      ],
      "metadata": {
        "execution": {
          "iopub.status.busy": "2024-07-30T13:28:56.526241Z",
          "iopub.execute_input": "2024-07-30T13:28:56.526853Z",
          "iopub.status.idle": "2024-07-30T13:33:26.119035Z",
          "shell.execute_reply.started": "2024-07-30T13:28:56.526818Z",
          "shell.execute_reply": "2024-07-30T13:33:26.117793Z"
        },
        "trusted": true,
        "id": "2e5NMwx9clq2"
      },
      "outputs": [],
      "execution_count": null
    },
    {
      "cell_type": "markdown",
      "source": [
        "# Stratified CV"
      ],
      "metadata": {
        "id": "4VCd2dGKclq2"
      }
    },
    {
      "cell_type": "code",
      "source": [
        "import xgboost as xgb\n",
        "from sklearn.model_selection import train_test_split\n",
        "\n",
        "# Convert the data to DMatrix format and specify the GPU\n",
        "dtrain = xgb.DMatrix(X, label=y, nthread=-1)\n",
        "dtest = xgb.DMatrix(X_test, label=y_test, nthread=-1)\n"
      ],
      "metadata": {
        "execution": {
          "iopub.status.busy": "2024-07-31T12:12:05.792587Z",
          "iopub.execute_input": "2024-07-31T12:12:05.79309Z",
          "iopub.status.idle": "2024-07-31T12:12:08.532947Z",
          "shell.execute_reply.started": "2024-07-31T12:12:05.793059Z",
          "shell.execute_reply": "2024-07-31T12:12:08.532086Z"
        },
        "trusted": true,
        "id": "vfYaAuY9clq2"
      },
      "outputs": [],
      "execution_count": null
    },
    {
      "cell_type": "code",
      "source": [
        "from xgboost import XGBClassifier\n",
        "from sklearn.model_selection import RandomizedSearchCV, StratifiedKFold\n",
        "from sklearn.metrics import accuracy_score\n",
        "import numpy as np\n",
        "\n",
        "# Define the parameter grid for RandomizedSearchCV\n",
        "param_grid = {\n",
        "    'colsample_bytree': np.linspace(0.3, 0.9, 10),\n",
        "    'gamma': np.linspace(0, 5, 10),\n",
        "    'learning_rate': np.linspace(0.01, 0.2, 10),\n",
        "    'max_depth': np.arange(3, 12, 1),\n",
        "    'min_child_weight': np.arange(1, 10, 1),\n",
        "    'n_estimators': np.arange(100, 500, 50),\n",
        "    'subsample': np.linspace(0.3, 0.9, 10),\n",
        "    'eval_metric': ['auc']\n",
        "}\n",
        "\n",
        "# Define the XGBoost model\n",
        "xgb_model = XGBClassifier(verbosity=2, device='cuda',)\n",
        "\n",
        "# Set up stratified k-fold cross-validation\n",
        "skf = StratifiedKFold(n_splits=5, shuffle=True, random_state=42)\n",
        "\n",
        "# Perform RandomizedSearchCV\n",
        "random_search = RandomizedSearchCV(estimator=xgb_model, param_distributions=param_grid,\n",
        "                                   n_iter=10, scoring='roc_auc', n_jobs=-1, cv=skf,\n",
        "                                   verbose=2, random_state=42)\n",
        "\n",
        "# Fit the random search model\n",
        "random_search.fit(X, y)\n",
        "\n",
        "# Print the best parameters and best score\n",
        "print(\"Best parameters found: \", random_search.best_params_)\n",
        "print(\"Best cross-validation score: \", random_search.best_score_)\n",
        "\n",
        "# Train the model on the entire dataset with the best parameters\n",
        "best_xgb_model = random_search.best_estimator_\n",
        "best_xgb_model.fit(X, y)\n",
        "\n",
        "# Make predictions on the test data\n",
        "y_pred1 = best_xgb_model.predict(X_test)\n",
        "\n",
        "# Evaluate the model\n",
        "accuracy = accuracy_score(y_test, y_pred1)\n",
        "print(f\"Test set accuracy: {accuracy}\")\n"
      ],
      "metadata": {
        "execution": {
          "iopub.status.busy": "2024-07-31T12:16:10.843914Z",
          "iopub.execute_input": "2024-07-31T12:16:10.84457Z",
          "iopub.status.idle": "2024-07-31T12:26:37.206896Z",
          "shell.execute_reply.started": "2024-07-31T12:16:10.844542Z",
          "shell.execute_reply": "2024-07-31T12:26:37.205617Z"
        },
        "trusted": true,
        "id": "-QwTN7-Pclq2",
        "outputId": "d38e140e-03c4-4324-a12f-b5d48b3bd935"
      },
      "outputs": [
        {
          "name": "stdout",
          "text": "Fitting 5 folds for each of 10 candidates, totalling 50 fits\n",
          "output_type": "stream"
        },
        {
          "name": "stderr",
          "text": "/opt/conda/lib/python3.10/site-packages/xgboost/core.py:160: UserWarning: [12:17:18] WARNING: /workspace/src/common/error_msg.cc:58: Falling back to prediction using DMatrix due to mismatched devices. This might lead to higher memory usage and slower performance. XGBoost is running on: cuda:0, while the input data is on: cpu.\nPotential solutions:\n- Use a data structure that matches the device ordinal in the booster.\n- Set the device for booster before call to inplace_predict.\n\nThis warning will only be shown once.\n\n  warnings.warn(smsg, UserWarning)\n/opt/conda/lib/python3.10/site-packages/xgboost/core.py:160: UserWarning: [12:17:18] WARNING: /workspace/src/common/error_msg.cc:58: Falling back to prediction using DMatrix due to mismatched devices. This might lead to higher memory usage and slower performance. XGBoost is running on: cuda:0, while the input data is on: cpu.\nPotential solutions:\n- Use a data structure that matches the device ordinal in the booster.\n- Set the device for booster before call to inplace_predict.\n\nThis warning will only be shown once.\n\n  warnings.warn(smsg, UserWarning)\n/opt/conda/lib/python3.10/site-packages/xgboost/core.py:160: UserWarning: [12:17:18] WARNING: /workspace/src/common/error_msg.cc:58: Falling back to prediction using DMatrix due to mismatched devices. This might lead to higher memory usage and slower performance. XGBoost is running on: cuda:0, while the input data is on: cpu.\nPotential solutions:\n- Use a data structure that matches the device ordinal in the booster.\n- Set the device for booster before call to inplace_predict.\n\nThis warning will only be shown once.\n\n  warnings.warn(smsg, UserWarning)\n/opt/conda/lib/python3.10/site-packages/xgboost/core.py:160: UserWarning: [12:17:19] WARNING: /workspace/src/common/error_msg.cc:58: Falling back to prediction using DMatrix due to mismatched devices. This might lead to higher memory usage and slower performance. XGBoost is running on: cuda:0, while the input data is on: cpu.\nPotential solutions:\n- Use a data structure that matches the device ordinal in the booster.\n- Set the device for booster before call to inplace_predict.\n\nThis warning will only be shown once.\n\n  warnings.warn(smsg, UserWarning)\n",
          "output_type": "stream"
        },
        {
          "name": "stdout",
          "text": "Best parameters found:  {'subsample': 0.5666666666666667, 'n_estimators': 350, 'min_child_weight': 5, 'max_depth': 9, 'learning_rate': 0.2, 'gamma': 4.444444444444445, 'eval_metric': 'auc', 'colsample_bytree': 0.9}\nBest cross-validation score:  0.8794154749333668\n",
          "output_type": "stream"
        },
        {
          "name": "stderr",
          "text": "/opt/conda/lib/python3.10/site-packages/xgboost/core.py:160: UserWarning: [12:26:36] WARNING: /workspace/src/common/error_msg.cc:58: Falling back to prediction using DMatrix due to mismatched devices. This might lead to higher memory usage and slower performance. XGBoost is running on: cuda:0, while the input data is on: cpu.\nPotential solutions:\n- Use a data structure that matches the device ordinal in the booster.\n- Set the device for booster before call to inplace_predict.\n\nThis warning will only be shown once.\n\n  warnings.warn(smsg, UserWarning)\n",
          "output_type": "stream"
        },
        {
          "name": "stdout",
          "text": "Test set accuracy: 0.8788601279465962\n[CV] END colsample_bytree=0.9, eval_metric=auc, gamma=4.444444444444445, learning_rate=0.2, max_depth=9, min_child_weight=5, n_estimators=350, subsample=0.5666666666666667; total time= 1.1min\n[CV] END colsample_bytree=0.9, eval_metric=auc, gamma=5.0, learning_rate=0.03111111111111111, max_depth=5, min_child_weight=4, n_estimators=200, subsample=0.8333333333333335; total time=  46.9s\n[CV] END colsample_bytree=0.9, eval_metric=auc, gamma=5.0, learning_rate=0.03111111111111111, max_depth=5, min_child_weight=4, n_estimators=200, subsample=0.8333333333333335; total time=  46.5s\n[CV] END colsample_bytree=0.43333333333333335, eval_metric=auc, gamma=3.3333333333333335, learning_rate=0.03111111111111111, max_depth=5, min_child_weight=1, n_estimators=200, subsample=0.5; total time=  45.5s\n[CV] END colsample_bytree=0.7000000000000001, eval_metric=auc, gamma=3.3333333333333335, learning_rate=0.09444444444444444, max_depth=5, min_child_weight=6, n_estimators=150, subsample=0.43333333333333335; total time=  40.3s\n[CV] END colsample_bytree=0.7666666666666668, eval_metric=auc, gamma=3.3333333333333335, learning_rate=0.01, max_depth=5, min_child_weight=4, n_estimators=100, subsample=0.5666666666666667; total time=  33.9s\n[CV] END colsample_bytree=0.5, eval_metric=auc, gamma=2.2222222222222223, learning_rate=0.09444444444444444, max_depth=10, min_child_weight=5, n_estimators=100, subsample=0.9; total time=  37.7s\n[CV] END colsample_bytree=0.43333333333333335, eval_metric=auc, gamma=2.2222222222222223, learning_rate=0.052222222222222225, max_depth=5, min_child_weight=6, n_estimators=100, subsample=0.7000000000000001; total time=  32.1s\n[CV] END colsample_bytree=0.43333333333333335, eval_metric=auc, gamma=2.2222222222222223, learning_rate=0.052222222222222225, max_depth=5, min_child_weight=6, n_estimators=100, subsample=0.7000000000000001; total time=  33.6s\n[CV] END colsample_bytree=0.9, eval_metric=auc, gamma=2.7777777777777777, learning_rate=0.1366666666666667, max_depth=6, min_child_weight=7, n_estimators=350, subsample=0.8333333333333335; total time=  54.4s\n[CV] END colsample_bytree=0.3666666666666667, eval_metric=auc, gamma=3.8888888888888893, learning_rate=0.11555555555555555, max_depth=5, min_child_weight=8, n_estimators=450, subsample=0.5666666666666667; total time= 1.0min\n[CV] END colsample_bytree=0.7000000000000001, eval_metric=auc, gamma=1.1111111111111112, learning_rate=0.09444444444444444, max_depth=4, min_child_weight=9, n_estimators=100, subsample=0.7666666666666668; total time=  31.0s\n[CV] END colsample_bytree=0.9, eval_metric=auc, gamma=4.444444444444445, learning_rate=0.2, max_depth=9, min_child_weight=5, n_estimators=350, subsample=0.5666666666666667; total time= 1.1min\n[CV] END colsample_bytree=0.9, eval_metric=auc, gamma=4.444444444444445, learning_rate=0.2, max_depth=9, min_child_weight=5, n_estimators=350, subsample=0.5666666666666667; total time=  57.1s\n[CV] END colsample_bytree=0.43333333333333335, eval_metric=auc, gamma=3.3333333333333335, learning_rate=0.03111111111111111, max_depth=5, min_child_weight=1, n_estimators=200, subsample=0.5; total time=  41.7s\n[CV] END colsample_bytree=0.7000000000000001, eval_metric=auc, gamma=3.3333333333333335, learning_rate=0.09444444444444444, max_depth=5, min_child_weight=6, n_estimators=150, subsample=0.43333333333333335; total time=  39.8s\n[CV] END colsample_bytree=0.7000000000000001, eval_metric=auc, gamma=3.3333333333333335, learning_rate=0.09444444444444444, max_depth=5, min_child_weight=6, n_estimators=150, subsample=0.43333333333333335; total time=  40.8s\n[CV] END colsample_bytree=0.7666666666666668, eval_metric=auc, gamma=3.3333333333333335, learning_rate=0.01, max_depth=5, min_child_weight=4, n_estimators=100, subsample=0.5666666666666667; total time=  34.0s\n[CV] END colsample_bytree=0.5, eval_metric=auc, gamma=2.2222222222222223, learning_rate=0.09444444444444444, max_depth=10, min_child_weight=5, n_estimators=100, subsample=0.9; total time=  37.6s\n[CV] END colsample_bytree=0.43333333333333335, eval_metric=auc, gamma=2.2222222222222223, learning_rate=0.052222222222222225, max_depth=5, min_child_weight=6, n_estimators=100, subsample=0.7000000000000001; total time=  33.2s\n[CV] END colsample_bytree=0.9, eval_metric=auc, gamma=2.7777777777777777, learning_rate=0.1366666666666667, max_depth=6, min_child_weight=7, n_estimators=350, subsample=0.8333333333333335; total time=  53.4s\n[CV] END colsample_bytree=0.9, eval_metric=auc, gamma=2.7777777777777777, learning_rate=0.1366666666666667, max_depth=6, min_child_weight=7, n_estimators=350, subsample=0.8333333333333335; total time=  52.9s\n[CV] END colsample_bytree=0.3666666666666667, eval_metric=auc, gamma=3.8888888888888893, learning_rate=0.11555555555555555, max_depth=5, min_child_weight=8, n_estimators=450, subsample=0.5666666666666667; total time=  60.0s\n[CV] END colsample_bytree=0.7000000000000001, eval_metric=auc, gamma=1.1111111111111112, learning_rate=0.09444444444444444, max_depth=4, min_child_weight=9, n_estimators=100, subsample=0.7666666666666668; total time=  27.4s\n[CV] END colsample_bytree=0.9, eval_metric=auc, gamma=4.444444444444445, learning_rate=0.2, max_depth=9, min_child_weight=5, n_estimators=350, subsample=0.5666666666666667; total time= 1.1min\n[CV] END colsample_bytree=0.9, eval_metric=auc, gamma=5.0, learning_rate=0.03111111111111111, max_depth=5, min_child_weight=4, n_estimators=200, subsample=0.8333333333333335; total time=  46.9s\n[CV] END colsample_bytree=0.9, eval_metric=auc, gamma=5.0, learning_rate=0.03111111111111111, max_depth=5, min_child_weight=4, n_estimators=200, subsample=0.8333333333333335; total time=  44.2s\n[CV] END colsample_bytree=0.43333333333333335, eval_metric=auc, gamma=3.3333333333333335, learning_rate=0.03111111111111111, max_depth=5, min_child_weight=1, n_estimators=200, subsample=0.5; total time=  42.7s\n[CV] END colsample_bytree=0.7000000000000001, eval_metric=auc, gamma=3.3333333333333335, learning_rate=0.09444444444444444, max_depth=5, min_child_weight=6, n_estimators=150, subsample=0.43333333333333335; total time=  36.4s\n[CV] END colsample_bytree=0.7666666666666668, eval_metric=auc, gamma=3.3333333333333335, learning_rate=0.01, max_depth=5, min_child_weight=4, n_estimators=100, subsample=0.5666666666666667; total time=  29.7s\n[CV] END colsample_bytree=0.7666666666666668, eval_metric=auc, gamma=3.3333333333333335, learning_rate=0.01, max_depth=5, min_child_weight=4, n_estimators=100, subsample=0.5666666666666667; total time=  29.8s\n[CV] END colsample_bytree=0.5, eval_metric=auc, gamma=2.2222222222222223, learning_rate=0.09444444444444444, max_depth=10, min_child_weight=5, n_estimators=100, subsample=0.9; total time=  31.7s\n[CV] END colsample_bytree=0.43333333333333335, eval_metric=auc, gamma=2.2222222222222223, learning_rate=0.052222222222222225, max_depth=5, min_child_weight=6, n_estimators=100, subsample=0.7000000000000001; total time=  29.8s\n[CV] END colsample_bytree=0.9, eval_metric=auc, gamma=2.7777777777777777, learning_rate=0.1366666666666667, max_depth=6, min_child_weight=7, n_estimators=350, subsample=0.8333333333333335; total time=  51.7s\n[CV] END colsample_bytree=0.3666666666666667, eval_metric=auc, gamma=3.8888888888888893, learning_rate=0.11555555555555555, max_depth=5, min_child_weight=8, n_estimators=450, subsample=0.5666666666666667; total time=  58.5s\n[CV] END colsample_bytree=0.3666666666666667, eval_metric=auc, gamma=3.8888888888888893, learning_rate=0.11555555555555555, max_depth=5, min_child_weight=8, n_estimators=450, subsample=0.5666666666666667; total time=  59.5s\n[CV] END colsample_bytree=0.7000000000000001, eval_metric=auc, gamma=1.1111111111111112, learning_rate=0.09444444444444444, max_depth=4, min_child_weight=9, n_estimators=100, subsample=0.7666666666666668; total time=  25.0s\n[CV] END colsample_bytree=0.9, eval_metric=auc, gamma=4.444444444444445, learning_rate=0.2, max_depth=9, min_child_weight=5, n_estimators=350, subsample=0.5666666666666667; total time= 1.1min\n[CV] END colsample_bytree=0.9, eval_metric=auc, gamma=5.0, learning_rate=0.03111111111111111, max_depth=5, min_child_weight=4, n_estimators=200, subsample=0.8333333333333335; total time=  46.7s\n[CV] END colsample_bytree=0.43333333333333335, eval_metric=auc, gamma=3.3333333333333335, learning_rate=0.03111111111111111, max_depth=5, min_child_weight=1, n_estimators=200, subsample=0.5; total time=  46.7s\n[CV] END colsample_bytree=0.43333333333333335, eval_metric=auc, gamma=3.3333333333333335, learning_rate=0.03111111111111111, max_depth=5, min_child_weight=1, n_estimators=200, subsample=0.5; total time=  46.0s\n[CV] END colsample_bytree=0.7000000000000001, eval_metric=auc, gamma=3.3333333333333335, learning_rate=0.09444444444444444, max_depth=5, min_child_weight=6, n_estimators=150, subsample=0.43333333333333335; total time=  39.0s\n[CV] END colsample_bytree=0.7666666666666668, eval_metric=auc, gamma=3.3333333333333335, learning_rate=0.01, max_depth=5, min_child_weight=4, n_estimators=100, subsample=0.5666666666666667; total time=  31.6s\n[CV] END colsample_bytree=0.5, eval_metric=auc, gamma=2.2222222222222223, learning_rate=0.09444444444444444, max_depth=10, min_child_weight=5, n_estimators=100, subsample=0.9; total time=  35.3s\n[CV] END colsample_bytree=0.5, eval_metric=auc, gamma=2.2222222222222223, learning_rate=0.09444444444444444, max_depth=10, min_child_weight=5, n_estimators=100, subsample=0.9; total time=  35.0s\n[CV] END colsample_bytree=0.43333333333333335, eval_metric=auc, gamma=2.2222222222222223, learning_rate=0.052222222222222225, max_depth=5, min_child_weight=6, n_estimators=100, subsample=0.7000000000000001; total time=  31.4s\n[CV] END colsample_bytree=0.9, eval_metric=auc, gamma=2.7777777777777777, learning_rate=0.1366666666666667, max_depth=6, min_child_weight=7, n_estimators=350, subsample=0.8333333333333335; total time=  53.0s\n[CV] END colsample_bytree=0.3666666666666667, eval_metric=auc, gamma=3.8888888888888893, learning_rate=0.11555555555555555, max_depth=5, min_child_weight=8, n_estimators=450, subsample=0.5666666666666667; total time= 1.0min\n[CV] END colsample_bytree=0.7000000000000001, eval_metric=auc, gamma=1.1111111111111112, learning_rate=0.09444444444444444, max_depth=4, min_child_weight=9, n_estimators=100, subsample=0.7666666666666668; total time=  32.5s\n[CV] END colsample_bytree=0.7000000000000001, eval_metric=auc, gamma=1.1111111111111112, learning_rate=0.09444444444444444, max_depth=4, min_child_weight=9, n_estimators=100, subsample=0.7666666666666668; total time=  29.2s\n",
          "output_type": "stream"
        }
      ],
      "execution_count": null
    },
    {
      "cell_type": "code",
      "source": [
        "from sklearn.metrics import accuracy_score\n",
        "acc=accuracy_score(y_test,y_pred1)\n",
        "acc"
      ],
      "metadata": {
        "execution": {
          "iopub.status.busy": "2024-07-31T08:54:43.143626Z",
          "iopub.execute_input": "2024-07-31T08:54:43.144344Z",
          "iopub.status.idle": "2024-07-31T08:54:43.587582Z",
          "shell.execute_reply.started": "2024-07-31T08:54:43.14431Z",
          "shell.execute_reply": "2024-07-31T08:54:43.586664Z"
        },
        "trusted": true,
        "id": "Cif6aamtclq2",
        "outputId": "1080ef9f-01b3-48d6-e8b1-a062b752cdbb"
      },
      "outputs": [
        {
          "execution_count": 22,
          "output_type": "execute_result",
          "data": {
            "text/plain": "0.8770348028648912"
          },
          "metadata": {}
        }
      ],
      "execution_count": null
    },
    {
      "cell_type": "markdown",
      "source": [
        "# Random search cv xgboost\n",
        "do not run\n"
      ],
      "metadata": {
        "id": "fQ0ngc2Aclq2"
      }
    },
    {
      "cell_type": "code",
      "source": [
        "import xgboost as xgb\n",
        "from sklearn.model_selection import RandomizedSearchCV\n",
        "from scipy.stats import uniform, randint\n",
        "\n",
        "# Define parameter grid\n",
        "param_dist = {\n",
        "    'n_estimators': randint(50, 500),\n",
        "    'learning_rate': uniform(0.01, 0.29),\n",
        "    'max_depth': randint(3, 10),\n",
        "    'min_child_weight': randint(1, 10),\n",
        "    'subsample': uniform(0.5, 0.5),\n",
        "    'colsample_bytree': uniform(0.5, 0.5),\n",
        "    'gamma': uniform(0, 5)\n",
        "}\n",
        "\n",
        "# Instantiate the model\n",
        "xgb_model = xgb.XGBClassifier(device='cuda')\n",
        "\n",
        "# Set up random search\n",
        "random_search = RandomizedSearchCV(xgb_model, param_distributions=param_dist,\n",
        "                                    n_iter=10, cv=3, verbose=2,\n",
        "                                    scoring='roc_auc', random_state=42)\n",
        "\n",
        "# Fit the model\n",
        "random_search.fit(X, y)\n",
        "\n",
        "# Print best parameters and best score\n",
        "print(\"Best Parameters:\", random_search.best_params_)\n",
        "print(\"Best Score:\", random_search.best_score_)"
      ],
      "metadata": {
        "execution": {
          "iopub.status.busy": "2024-07-30T11:38:05.629942Z",
          "iopub.execute_input": "2024-07-30T11:38:05.630596Z",
          "iopub.status.idle": "2024-07-30T11:50:56.648053Z",
          "shell.execute_reply.started": "2024-07-30T11:38:05.630564Z",
          "shell.execute_reply": "2024-07-30T11:50:56.646949Z"
        },
        "_kg_hide-output": true,
        "trusted": true,
        "id": "_egp2HT8clq3",
        "outputId": "41be0dd9-b990-4ff4-d26d-bda9f11418c3"
      },
      "outputs": [
        {
          "name": "stdout",
          "text": "Fitting 3 folds for each of 10 candidates, totalling 30 fits\n[CV] END colsample_bytree=0.6872700594236812, gamma=4.75357153204958, learning_rate=0.22227824312530747, max_depth=7, min_child_weight=5, n_estimators=152, subsample=0.7229163764267956; total time=  16.8s\n[CV] END colsample_bytree=0.6872700594236812, gamma=4.75357153204958, learning_rate=0.22227824312530747, max_depth=7, min_child_weight=5, n_estimators=152, subsample=0.7229163764267956; total time=  17.0s\n[CV] END colsample_bytree=0.6872700594236812, gamma=4.75357153204958, learning_rate=0.22227824312530747, max_depth=7, min_child_weight=5, n_estimators=152, subsample=0.7229163764267956; total time=  16.9s\n[CV] END colsample_bytree=0.5499874579090014, gamma=2.2962444598293357, learning_rate=0.10677549723031632, max_depth=5, min_child_weight=6, n_estimators=358, subsample=0.9849549260809971; total time=  26.0s\n[CV] END colsample_bytree=0.5499874579090014, gamma=2.2962444598293357, learning_rate=0.10677549723031632, max_depth=5, min_child_weight=6, n_estimators=358, subsample=0.9849549260809971; total time=  25.9s\n[CV] END colsample_bytree=0.5499874579090014, gamma=2.2962444598293357, learning_rate=0.10677549723031632, max_depth=5, min_child_weight=6, n_estimators=358, subsample=0.9849549260809971; total time=  25.8s\n[CV] END colsample_bytree=0.9162213204002109, gamma=1.0616955533913808, learning_rate=0.06272924049005918, max_depth=7, min_child_weight=1, n_estimators=363, subsample=0.762378215816119; total time=  28.2s\n[CV] END colsample_bytree=0.9162213204002109, gamma=1.0616955533913808, learning_rate=0.06272924049005918, max_depth=7, min_child_weight=1, n_estimators=363, subsample=0.762378215816119; total time=  28.0s\n[CV] END colsample_bytree=0.9162213204002109, gamma=1.0616955533913808, learning_rate=0.06272924049005918, max_depth=7, min_child_weight=1, n_estimators=363, subsample=0.762378215816119; total time=  28.1s\n[CV] END colsample_bytree=0.7159725093210578, gamma=1.4561457009902097, learning_rate=0.18743733946949004, max_depth=4, min_child_weight=3, n_estimators=413, subsample=0.7571172192068059; total time=  26.8s\n[CV] END colsample_bytree=0.7159725093210578, gamma=1.4561457009902097, learning_rate=0.18743733946949004, max_depth=4, min_child_weight=3, n_estimators=413, subsample=0.7571172192068059; total time=  27.2s\n[CV] END colsample_bytree=0.7159725093210578, gamma=1.4561457009902097, learning_rate=0.18743733946949004, max_depth=4, min_child_weight=3, n_estimators=413, subsample=0.7571172192068059; total time=  26.8s\n[CV] END colsample_bytree=0.7962072844310213, gamma=0.23225206359998862, learning_rate=0.1861880070514171, max_depth=7, min_child_weight=9, n_estimators=216, subsample=0.5066324805799333; total time=  20.3s\n[CV] END colsample_bytree=0.7962072844310213, gamma=0.23225206359998862, learning_rate=0.1861880070514171, max_depth=7, min_child_weight=9, n_estimators=216, subsample=0.5066324805799333; total time=  20.5s\n[CV] END colsample_bytree=0.7962072844310213, gamma=0.23225206359998862, learning_rate=0.1861880070514171, max_depth=7, min_child_weight=9, n_estimators=216, subsample=0.5066324805799333; total time=  21.0s\n[CV] END colsample_bytree=0.9711008778424264, gamma=2.8164410892276965, learning_rate=0.12177078573657565, max_depth=4, min_child_weight=5, n_estimators=435, subsample=0.8421165132560784; total time=  28.3s\n[CV] END colsample_bytree=0.9711008778424264, gamma=2.8164410892276965, learning_rate=0.12177078573657565, max_depth=4, min_child_weight=5, n_estimators=435, subsample=0.8421165132560784; total time=  28.0s\n[CV] END colsample_bytree=0.9711008778424264, gamma=2.8164410892276965, learning_rate=0.12177078573657565, max_depth=4, min_child_weight=5, n_estimators=435, subsample=0.8421165132560784; total time=  28.4s\n[CV] END colsample_bytree=0.7200762468698007, gamma=0.6101911742238941, learning_rate=0.15360130393226834, max_depth=9, min_child_weight=3, n_estimators=255, subsample=0.6955303037866204; total time=  24.9s\n[CV] END colsample_bytree=0.7200762468698007, gamma=0.6101911742238941, learning_rate=0.15360130393226834, max_depth=9, min_child_weight=3, n_estimators=255, subsample=0.6955303037866204; total time=  24.7s\n[CV] END colsample_bytree=0.7200762468698007, gamma=0.6101911742238941, learning_rate=0.15360130393226834, max_depth=9, min_child_weight=3, n_estimators=255, subsample=0.6955303037866204; total time=  24.5s\n[CV] END colsample_bytree=0.5911180438940311, gamma=3.7768070515882624, learning_rate=0.13329520360246094, max_depth=8, min_child_weight=4, n_estimators=359, subsample=0.5156566462277793; total time=  26.5s\n[CV] END colsample_bytree=0.5911180438940311, gamma=3.7768070515882624, learning_rate=0.13329520360246094, max_depth=8, min_child_weight=4, n_estimators=359, subsample=0.5156566462277793; total time=  27.0s\n[CV] END colsample_bytree=0.5911180438940311, gamma=3.7768070515882624, learning_rate=0.13329520360246094, max_depth=8, min_child_weight=4, n_estimators=359, subsample=0.5156566462277793; total time=  26.8s\n[CV] END colsample_bytree=0.9211423872974993, gamma=2.248770666848828, learning_rate=0.12459356844052617, max_depth=6, min_child_weight=8, n_estimators=264, subsample=0.7604171300129119; total time=  22.4s\n[CV] END colsample_bytree=0.9211423872974993, gamma=2.248770666848828, learning_rate=0.12459356844052617, max_depth=6, min_child_weight=8, n_estimators=264, subsample=0.7604171300129119; total time=  22.5s\n[CV] END colsample_bytree=0.9211423872974993, gamma=2.248770666848828, learning_rate=0.12459356844052617, max_depth=6, min_child_weight=8, n_estimators=264, subsample=0.7604171300129119; total time=  22.1s\n[CV] END colsample_bytree=0.9805860121746746, gamma=4.222669243390757, learning_rate=0.22672283193984044, max_depth=9, min_child_weight=5, n_estimators=329, subsample=0.6783766633467947; total time=  24.1s\n[CV] END colsample_bytree=0.9805860121746746, gamma=4.222669243390757, learning_rate=0.22672283193984044, max_depth=9, min_child_weight=5, n_estimators=329, subsample=0.6783766633467947; total time=  24.2s\n[CV] END colsample_bytree=0.9805860121746746, gamma=4.222669243390757, learning_rate=0.22672283193984044, max_depth=9, min_child_weight=5, n_estimators=329, subsample=0.6783766633467947; total time=  23.9s\nBest Parameters: {'colsample_bytree': 0.5911180438940311, 'gamma': 3.7768070515882624, 'learning_rate': 0.13329520360246094, 'max_depth': 8, 'min_child_weight': 4, 'n_estimators': 359, 'subsample': 0.5156566462277793}\nBest Score: 0.8786289459220641\n",
          "output_type": "stream"
        }
      ],
      "execution_count": null
    },
    {
      "cell_type": "code",
      "source": [
        "y_pred1"
      ],
      "metadata": {
        "execution": {
          "iopub.status.busy": "2024-07-30T08:12:57.017105Z",
          "iopub.execute_input": "2024-07-30T08:12:57.017899Z",
          "iopub.status.idle": "2024-07-30T08:12:57.025417Z",
          "shell.execute_reply.started": "2024-07-30T08:12:57.01786Z",
          "shell.execute_reply": "2024-07-30T08:12:57.024141Z"
        },
        "trusted": true,
        "id": "eO4a2Hkrclq3",
        "outputId": "42f1f752-a323-442c-f33b-dd96ca153e90"
      },
      "outputs": [
        {
          "execution_count": 20,
          "output_type": "execute_result",
          "data": {
            "text/plain": "array([0, 0, 0, ..., 0, 0, 0])"
          },
          "metadata": {}
        }
      ],
      "execution_count": null
    },
    {
      "cell_type": "code",
      "source": [
        "from sklearn.metrics import accuracy_score\n",
        "acc=accuracy_score(y_pred1,y_test)\n",
        "print(\"Accuracy:\",acc)"
      ],
      "metadata": {
        "execution": {
          "iopub.status.busy": "2024-07-30T13:42:08.123916Z",
          "iopub.execute_input": "2024-07-30T13:42:08.124328Z",
          "iopub.status.idle": "2024-07-30T13:42:08.345906Z",
          "shell.execute_reply.started": "2024-07-30T13:42:08.124284Z",
          "shell.execute_reply": "2024-07-30T13:42:08.34483Z"
        },
        "trusted": true,
        "id": "uUsPobOQclq3",
        "outputId": "21be0dcb-414e-45f9-d573-a89fd5fe0cff"
      },
      "outputs": [
        {
          "name": "stdout",
          "text": "Accuracy: 0.8769517940337946\n",
          "output_type": "stream"
        }
      ],
      "execution_count": null
    },
    {
      "cell_type": "markdown",
      "source": [
        "# GradientBoosting Classifier"
      ],
      "metadata": {
        "id": "-gyN4TDYclq3"
      }
    },
    {
      "cell_type": "code",
      "source": [
        "from sklearn.ensemble import GradientBoostingClassifier\n",
        "from sklearn.model_selection import RandomizedSearchCV\n",
        "from scipy.stats import uniform, randint\n",
        "from sklearn.metrics import accuracy_score\n",
        "\n",
        "# Define parameter grid\n",
        "param_dist = {\n",
        "    'n_estimators': randint(50, 500),\n",
        "    'learning_rate': uniform(0.01, 0.29),\n",
        "    'max_depth': randint(3, 10),\n",
        "    'min_samples_split': randint(2, 10),\n",
        "    'min_samples_leaf': randint(1, 10),\n",
        "    'subsample': uniform(0.5, 0.5)\n",
        "}\n",
        "\n",
        "# Instantiate the model\n",
        "gb_model = GradientBoostingClassifier()\n",
        "\n",
        "# Set up random search\n",
        "random_search = RandomizedSearchCV(gb_model, param_distributions=param_dist,\n",
        "                                   n_iter=10, cv=3, verbose=2,\n",
        "                                   scoring='roc_auc', random_state=42)\n",
        "\n",
        "# Fit the model\n",
        "random_search.fit(X, y)\n",
        "\n",
        "# Print best parameters and best score\n",
        "print(\"Best Parameters:\", random_search.best_params_)\n",
        "print(\"Best Score:\", random_search.best_score_)\n",
        "\n",
        "# Use the best estimator to make predictions\n",
        "best_model = random_search.best_estimator_\n",
        "y_pred2 = best_model.predict(X_test)\n",
        "\n",
        "# Evaluate the model\n",
        "accuracy = accuracy_score(y_test, y_pred2)\n",
        "print(f\"Accuracy: {accuracy}\")\n"
      ],
      "metadata": {
        "execution": {
          "iopub.status.busy": "2024-07-30T13:16:00.14861Z",
          "iopub.execute_input": "2024-07-30T13:16:00.149319Z"
        },
        "trusted": true,
        "id": "C9fv-gEmclq3",
        "outputId": "37ca38f6-3046-4e40-8f17-a980ebea09e7"
      },
      "outputs": [
        {
          "name": "stdout",
          "text": "Fitting 3 folds for each of 10 candidates, totalling 30 fits\n",
          "output_type": "stream"
        }
      ],
      "execution_count": null
    },
    {
      "cell_type": "code",
      "source": [
        "from sklearn.metrics import accuracy_score\n",
        "acc=accuracy_score(y_pred2,y_test)\n",
        "print(\"Accuracy:\",acc)"
      ],
      "metadata": {
        "execution": {
          "iopub.status.busy": "2024-07-29T11:53:19.608075Z",
          "iopub.execute_input": "2024-07-29T11:53:19.608418Z",
          "iopub.status.idle": "2024-07-29T11:53:19.844403Z",
          "shell.execute_reply.started": "2024-07-29T11:53:19.608391Z",
          "shell.execute_reply": "2024-07-29T11:53:19.843111Z"
        },
        "trusted": true,
        "id": "xjFmtzokclq3",
        "outputId": "fc2418a6-afc6-47ba-bc9b-5c91666eaec9"
      },
      "outputs": [
        {
          "name": "stdout",
          "text": "Accuracy: 0.8766727800570197\n",
          "output_type": "stream"
        }
      ],
      "execution_count": null
    },
    {
      "cell_type": "markdown",
      "source": [
        "# lgbm\n",
        "with best parameters"
      ],
      "metadata": {
        "id": "79s4mjAVclq4"
      }
    },
    {
      "cell_type": "code",
      "source": [
        "import lightgbm as lgb\n",
        "from sklearn.model_selection import RandomizedSearchCV\n",
        "from scipy.stats import uniform, randint\n",
        "\n",
        "lgb_model = lgb.LGBMClassifier(colsample_bytree=0.5156566462277793, learning_rate=0.2542625846325495,\n",
        "                               max_depth= 6, min_child_weight=0.1039498941564189, n_estimators= 495,\n",
        "                               num_leaves= 33, subsample= 0.8636359979282104)\n",
        "\n",
        "lgb_model.fit(X,y)\n",
        "y_pred3=lgb_model.predict(X_test)"
      ],
      "metadata": {
        "execution": {
          "iopub.status.busy": "2024-07-31T08:54:51.013938Z",
          "iopub.execute_input": "2024-07-31T08:54:51.014338Z",
          "iopub.status.idle": "2024-07-31T08:55:02.524124Z",
          "shell.execute_reply.started": "2024-07-31T08:54:51.014309Z",
          "shell.execute_reply": "2024-07-31T08:55:02.522828Z"
        },
        "trusted": true,
        "id": "FvnlmjZXclq4",
        "outputId": "5055493c-a387-4662-de81-c7999705722a"
      },
      "outputs": [
        {
          "name": "stdout",
          "text": "[LightGBM] [Warning] Using sparse features with CUDA is currently not supported.\n[LightGBM] [Info] Number of positive: 1415059, number of negative: 10089739\n",
          "output_type": "stream"
        },
        {
          "name": "stderr",
          "text": "[LightGBM] [Fatal] CUDA Tree Learner was not enabled in this build.\nPlease recompile with CMake option -DUSE_CUDA=1\n",
          "output_type": "stream"
        },
        {
          "traceback": [
            "\u001b[0;31m---------------------------------------------------------------------------\u001b[0m",
            "\u001b[0;31mLightGBMError\u001b[0m                             Traceback (most recent call last)",
            "Cell \u001b[0;32mIn[23], line 9\u001b[0m\n\u001b[1;32m      3\u001b[0m \u001b[38;5;28;01mfrom\u001b[39;00m \u001b[38;5;21;01mscipy\u001b[39;00m\u001b[38;5;21;01m.\u001b[39;00m\u001b[38;5;21;01mstats\u001b[39;00m \u001b[38;5;28;01mimport\u001b[39;00m uniform, randint\n\u001b[1;32m      5\u001b[0m lgb_model \u001b[38;5;241m=\u001b[39m lgb\u001b[38;5;241m.\u001b[39mLGBMClassifier(colsample_bytree\u001b[38;5;241m=\u001b[39m\u001b[38;5;241m0.5156566462277793\u001b[39m, learning_rate\u001b[38;5;241m=\u001b[39m\u001b[38;5;241m0.2542625846325495\u001b[39m,\n\u001b[1;32m      6\u001b[0m                                max_depth\u001b[38;5;241m=\u001b[39m \u001b[38;5;241m6\u001b[39m, min_child_weight\u001b[38;5;241m=\u001b[39m\u001b[38;5;241m0.1039498941564189\u001b[39m, n_estimators\u001b[38;5;241m=\u001b[39m \u001b[38;5;241m495\u001b[39m,\n\u001b[1;32m      7\u001b[0m                                num_leaves\u001b[38;5;241m=\u001b[39m \u001b[38;5;241m33\u001b[39m, subsample\u001b[38;5;241m=\u001b[39m \u001b[38;5;241m0.8636359979282104\u001b[39m,device\u001b[38;5;241m=\u001b[39m\u001b[38;5;124m'\u001b[39m\u001b[38;5;124mcuda\u001b[39m\u001b[38;5;124m'\u001b[39m)\n\u001b[0;32m----> 9\u001b[0m \u001b[43mlgb_model\u001b[49m\u001b[38;5;241;43m.\u001b[39;49m\u001b[43mfit\u001b[49m\u001b[43m(\u001b[49m\u001b[43mX\u001b[49m\u001b[43m,\u001b[49m\u001b[43my\u001b[49m\u001b[43m)\u001b[49m\n\u001b[1;32m     10\u001b[0m y_pred3\u001b[38;5;241m=\u001b[39mlgb_model\u001b[38;5;241m.\u001b[39mpredict(X_test)\n",
            "File \u001b[0;32m/opt/conda/lib/python3.10/site-packages/lightgbm/sklearn.py:1187\u001b[0m, in \u001b[0;36mLGBMClassifier.fit\u001b[0;34m(self, X, y, sample_weight, init_score, eval_set, eval_names, eval_sample_weight, eval_class_weight, eval_init_score, eval_metric, feature_name, categorical_feature, callbacks, init_model)\u001b[0m\n\u001b[1;32m   1184\u001b[0m         \u001b[38;5;28;01melse\u001b[39;00m:\n\u001b[1;32m   1185\u001b[0m             valid_sets\u001b[38;5;241m.\u001b[39mappend((valid_x, \u001b[38;5;28mself\u001b[39m\u001b[38;5;241m.\u001b[39m_le\u001b[38;5;241m.\u001b[39mtransform(valid_y)))\n\u001b[0;32m-> 1187\u001b[0m \u001b[38;5;28;43msuper\u001b[39;49m\u001b[43m(\u001b[49m\u001b[43m)\u001b[49m\u001b[38;5;241;43m.\u001b[39;49m\u001b[43mfit\u001b[49m\u001b[43m(\u001b[49m\n\u001b[1;32m   1188\u001b[0m \u001b[43m    \u001b[49m\u001b[43mX\u001b[49m\u001b[43m,\u001b[49m\n\u001b[1;32m   1189\u001b[0m \u001b[43m    \u001b[49m\u001b[43m_y\u001b[49m\u001b[43m,\u001b[49m\n\u001b[1;32m   1190\u001b[0m \u001b[43m    \u001b[49m\u001b[43msample_weight\u001b[49m\u001b[38;5;241;43m=\u001b[39;49m\u001b[43msample_weight\u001b[49m\u001b[43m,\u001b[49m\n\u001b[1;32m   1191\u001b[0m \u001b[43m    \u001b[49m\u001b[43minit_score\u001b[49m\u001b[38;5;241;43m=\u001b[39;49m\u001b[43minit_score\u001b[49m\u001b[43m,\u001b[49m\n\u001b[1;32m   1192\u001b[0m \u001b[43m    \u001b[49m\u001b[43meval_set\u001b[49m\u001b[38;5;241;43m=\u001b[39;49m\u001b[43mvalid_sets\u001b[49m\u001b[43m,\u001b[49m\n\u001b[1;32m   1193\u001b[0m \u001b[43m    \u001b[49m\u001b[43meval_names\u001b[49m\u001b[38;5;241;43m=\u001b[39;49m\u001b[43meval_names\u001b[49m\u001b[43m,\u001b[49m\n\u001b[1;32m   1194\u001b[0m \u001b[43m    \u001b[49m\u001b[43meval_sample_weight\u001b[49m\u001b[38;5;241;43m=\u001b[39;49m\u001b[43meval_sample_weight\u001b[49m\u001b[43m,\u001b[49m\n\u001b[1;32m   1195\u001b[0m \u001b[43m    \u001b[49m\u001b[43meval_class_weight\u001b[49m\u001b[38;5;241;43m=\u001b[39;49m\u001b[43meval_class_weight\u001b[49m\u001b[43m,\u001b[49m\n\u001b[1;32m   1196\u001b[0m \u001b[43m    \u001b[49m\u001b[43meval_init_score\u001b[49m\u001b[38;5;241;43m=\u001b[39;49m\u001b[43meval_init_score\u001b[49m\u001b[43m,\u001b[49m\n\u001b[1;32m   1197\u001b[0m \u001b[43m    \u001b[49m\u001b[43meval_metric\u001b[49m\u001b[38;5;241;43m=\u001b[39;49m\u001b[43meval_metric\u001b[49m\u001b[43m,\u001b[49m\n\u001b[1;32m   1198\u001b[0m \u001b[43m    \u001b[49m\u001b[43mfeature_name\u001b[49m\u001b[38;5;241;43m=\u001b[39;49m\u001b[43mfeature_name\u001b[49m\u001b[43m,\u001b[49m\n\u001b[1;32m   1199\u001b[0m \u001b[43m    \u001b[49m\u001b[43mcategorical_feature\u001b[49m\u001b[38;5;241;43m=\u001b[39;49m\u001b[43mcategorical_feature\u001b[49m\u001b[43m,\u001b[49m\n\u001b[1;32m   1200\u001b[0m \u001b[43m    \u001b[49m\u001b[43mcallbacks\u001b[49m\u001b[38;5;241;43m=\u001b[39;49m\u001b[43mcallbacks\u001b[49m\u001b[43m,\u001b[49m\n\u001b[1;32m   1201\u001b[0m \u001b[43m    \u001b[49m\u001b[43minit_model\u001b[49m\u001b[38;5;241;43m=\u001b[39;49m\u001b[43minit_model\u001b[49m\n\u001b[1;32m   1202\u001b[0m \u001b[43m\u001b[49m\u001b[43m)\u001b[49m\n\u001b[1;32m   1203\u001b[0m \u001b[38;5;28;01mreturn\u001b[39;00m \u001b[38;5;28mself\u001b[39m\n",
            "File \u001b[0;32m/opt/conda/lib/python3.10/site-packages/lightgbm/sklearn.py:885\u001b[0m, in \u001b[0;36mLGBMModel.fit\u001b[0;34m(self, X, y, sample_weight, init_score, group, eval_set, eval_names, eval_sample_weight, eval_class_weight, eval_init_score, eval_group, eval_metric, feature_name, categorical_feature, callbacks, init_model)\u001b[0m\n\u001b[1;32m    882\u001b[0m evals_result: _EvalResultDict \u001b[38;5;241m=\u001b[39m {}\n\u001b[1;32m    883\u001b[0m callbacks\u001b[38;5;241m.\u001b[39mappend(record_evaluation(evals_result))\n\u001b[0;32m--> 885\u001b[0m \u001b[38;5;28mself\u001b[39m\u001b[38;5;241m.\u001b[39m_Booster \u001b[38;5;241m=\u001b[39m \u001b[43mtrain\u001b[49m\u001b[43m(\u001b[49m\n\u001b[1;32m    886\u001b[0m \u001b[43m    \u001b[49m\u001b[43mparams\u001b[49m\u001b[38;5;241;43m=\u001b[39;49m\u001b[43mparams\u001b[49m\u001b[43m,\u001b[49m\n\u001b[1;32m    887\u001b[0m \u001b[43m    \u001b[49m\u001b[43mtrain_set\u001b[49m\u001b[38;5;241;43m=\u001b[39;49m\u001b[43mtrain_set\u001b[49m\u001b[43m,\u001b[49m\n\u001b[1;32m    888\u001b[0m \u001b[43m    \u001b[49m\u001b[43mnum_boost_round\u001b[49m\u001b[38;5;241;43m=\u001b[39;49m\u001b[38;5;28;43mself\u001b[39;49m\u001b[38;5;241;43m.\u001b[39;49m\u001b[43mn_estimators\u001b[49m\u001b[43m,\u001b[49m\n\u001b[1;32m    889\u001b[0m \u001b[43m    \u001b[49m\u001b[43mvalid_sets\u001b[49m\u001b[38;5;241;43m=\u001b[39;49m\u001b[43mvalid_sets\u001b[49m\u001b[43m,\u001b[49m\n\u001b[1;32m    890\u001b[0m \u001b[43m    \u001b[49m\u001b[43mvalid_names\u001b[49m\u001b[38;5;241;43m=\u001b[39;49m\u001b[43meval_names\u001b[49m\u001b[43m,\u001b[49m\n\u001b[1;32m    891\u001b[0m \u001b[43m    \u001b[49m\u001b[43mfeval\u001b[49m\u001b[38;5;241;43m=\u001b[39;49m\u001b[43meval_metrics_callable\u001b[49m\u001b[43m,\u001b[49m\u001b[43m  \u001b[49m\u001b[38;5;66;43;03m# type: ignore[arg-type]\u001b[39;49;00m\n\u001b[1;32m    892\u001b[0m \u001b[43m    \u001b[49m\u001b[43minit_model\u001b[49m\u001b[38;5;241;43m=\u001b[39;49m\u001b[43minit_model\u001b[49m\u001b[43m,\u001b[49m\n\u001b[1;32m    893\u001b[0m \u001b[43m    \u001b[49m\u001b[43mfeature_name\u001b[49m\u001b[38;5;241;43m=\u001b[39;49m\u001b[43mfeature_name\u001b[49m\u001b[43m,\u001b[49m\n\u001b[1;32m    894\u001b[0m \u001b[43m    \u001b[49m\u001b[43mcallbacks\u001b[49m\u001b[38;5;241;43m=\u001b[39;49m\u001b[43mcallbacks\u001b[49m\n\u001b[1;32m    895\u001b[0m \u001b[43m\u001b[49m\u001b[43m)\u001b[49m\n\u001b[1;32m    897\u001b[0m \u001b[38;5;28mself\u001b[39m\u001b[38;5;241m.\u001b[39m_evals_result \u001b[38;5;241m=\u001b[39m evals_result\n\u001b[1;32m    898\u001b[0m \u001b[38;5;28mself\u001b[39m\u001b[38;5;241m.\u001b[39m_best_iteration \u001b[38;5;241m=\u001b[39m \u001b[38;5;28mself\u001b[39m\u001b[38;5;241m.\u001b[39m_Booster\u001b[38;5;241m.\u001b[39mbest_iteration\n",
            "File \u001b[0;32m/opt/conda/lib/python3.10/site-packages/lightgbm/engine.py:255\u001b[0m, in \u001b[0;36mtrain\u001b[0;34m(params, train_set, num_boost_round, valid_sets, valid_names, feval, init_model, feature_name, categorical_feature, keep_training_booster, callbacks)\u001b[0m\n\u001b[1;32m    253\u001b[0m \u001b[38;5;66;03m# construct booster\u001b[39;00m\n\u001b[1;32m    254\u001b[0m \u001b[38;5;28;01mtry\u001b[39;00m:\n\u001b[0;32m--> 255\u001b[0m     booster \u001b[38;5;241m=\u001b[39m \u001b[43mBooster\u001b[49m\u001b[43m(\u001b[49m\u001b[43mparams\u001b[49m\u001b[38;5;241;43m=\u001b[39;49m\u001b[43mparams\u001b[49m\u001b[43m,\u001b[49m\u001b[43m \u001b[49m\u001b[43mtrain_set\u001b[49m\u001b[38;5;241;43m=\u001b[39;49m\u001b[43mtrain_set\u001b[49m\u001b[43m)\u001b[49m\n\u001b[1;32m    256\u001b[0m     \u001b[38;5;28;01mif\u001b[39;00m is_valid_contain_train:\n\u001b[1;32m    257\u001b[0m         booster\u001b[38;5;241m.\u001b[39mset_train_data_name(train_data_name)\n",
            "File \u001b[0;32m/opt/conda/lib/python3.10/site-packages/lightgbm/basic.py:3437\u001b[0m, in \u001b[0;36mBooster.__init__\u001b[0;34m(self, params, train_set, model_file, model_str)\u001b[0m\n\u001b[1;32m   3435\u001b[0m params\u001b[38;5;241m.\u001b[39mupdate(train_set\u001b[38;5;241m.\u001b[39mget_params())\n\u001b[1;32m   3436\u001b[0m params_str \u001b[38;5;241m=\u001b[39m _param_dict_to_str(params)\n\u001b[0;32m-> 3437\u001b[0m \u001b[43m_safe_call\u001b[49m\u001b[43m(\u001b[49m\u001b[43m_LIB\u001b[49m\u001b[38;5;241;43m.\u001b[39;49m\u001b[43mLGBM_BoosterCreate\u001b[49m\u001b[43m(\u001b[49m\n\u001b[1;32m   3438\u001b[0m \u001b[43m    \u001b[49m\u001b[43mtrain_set\u001b[49m\u001b[38;5;241;43m.\u001b[39;49m\u001b[43m_handle\u001b[49m\u001b[43m,\u001b[49m\n\u001b[1;32m   3439\u001b[0m \u001b[43m    \u001b[49m\u001b[43m_c_str\u001b[49m\u001b[43m(\u001b[49m\u001b[43mparams_str\u001b[49m\u001b[43m)\u001b[49m\u001b[43m,\u001b[49m\n\u001b[1;32m   3440\u001b[0m \u001b[43m    \u001b[49m\u001b[43mctypes\u001b[49m\u001b[38;5;241;43m.\u001b[39;49m\u001b[43mbyref\u001b[49m\u001b[43m(\u001b[49m\u001b[38;5;28;43mself\u001b[39;49m\u001b[38;5;241;43m.\u001b[39;49m\u001b[43m_handle\u001b[49m\u001b[43m)\u001b[49m\u001b[43m)\u001b[49m\u001b[43m)\u001b[49m\n\u001b[1;32m   3441\u001b[0m \u001b[38;5;66;03m# save reference to data\u001b[39;00m\n\u001b[1;32m   3442\u001b[0m \u001b[38;5;28mself\u001b[39m\u001b[38;5;241m.\u001b[39mtrain_set \u001b[38;5;241m=\u001b[39m train_set\n",
            "File \u001b[0;32m/opt/conda/lib/python3.10/site-packages/lightgbm/basic.py:263\u001b[0m, in \u001b[0;36m_safe_call\u001b[0;34m(ret)\u001b[0m\n\u001b[1;32m    255\u001b[0m \u001b[38;5;250m\u001b[39m\u001b[38;5;124;03m\"\"\"Check the return value from C API call.\u001b[39;00m\n\u001b[1;32m    256\u001b[0m \n\u001b[1;32m    257\u001b[0m \u001b[38;5;124;03mParameters\u001b[39;00m\n\u001b[0;32m   (...)\u001b[0m\n\u001b[1;32m    260\u001b[0m \u001b[38;5;124;03m    The return value from C API calls.\u001b[39;00m\n\u001b[1;32m    261\u001b[0m \u001b[38;5;124;03m\"\"\"\u001b[39;00m\n\u001b[1;32m    262\u001b[0m \u001b[38;5;28;01mif\u001b[39;00m ret \u001b[38;5;241m!=\u001b[39m \u001b[38;5;241m0\u001b[39m:\n\u001b[0;32m--> 263\u001b[0m     \u001b[38;5;28;01mraise\u001b[39;00m LightGBMError(_LIB\u001b[38;5;241m.\u001b[39mLGBM_GetLastError()\u001b[38;5;241m.\u001b[39mdecode(\u001b[38;5;124m'\u001b[39m\u001b[38;5;124mutf-8\u001b[39m\u001b[38;5;124m'\u001b[39m))\n",
            "\u001b[0;31mLightGBMError\u001b[0m: CUDA Tree Learner was not enabled in this build.\nPlease recompile with CMake option -DUSE_CUDA=1"
          ],
          "ename": "LightGBMError",
          "evalue": "CUDA Tree Learner was not enabled in this build.\nPlease recompile with CMake option -DUSE_CUDA=1",
          "output_type": "error"
        }
      ],
      "execution_count": null
    },
    {
      "cell_type": "code",
      "source": [
        "accrr=accuracy_score(y_test,y_pred3)\n",
        "accrr"
      ],
      "metadata": {
        "execution": {
          "iopub.status.busy": "2024-07-30T13:42:33.992799Z",
          "iopub.execute_input": "2024-07-30T13:42:33.993736Z",
          "iopub.status.idle": "2024-07-30T13:42:34.241522Z",
          "shell.execute_reply.started": "2024-07-30T13:42:33.993691Z",
          "shell.execute_reply": "2024-07-30T13:42:34.240257Z"
        },
        "trusted": true,
        "id": "KlZerOd_clq4",
        "outputId": "75b2a3ce-d40c-424d-f0f7-fd2b5452c041"
      },
      "outputs": [
        {
          "execution_count": 27,
          "output_type": "execute_result",
          "data": {
            "text/plain": "0.8813821187678187"
          },
          "metadata": {}
        }
      ],
      "execution_count": null
    },
    {
      "cell_type": "markdown",
      "source": [
        "# Random Forest model"
      ],
      "metadata": {
        "id": "_UHSMtu_clq4"
      }
    },
    {
      "cell_type": "code",
      "source": [
        "from sklearn.ensemble import RandomForestClassifier\n",
        "model=RandomForestClassifier(n_estimators=10,verbose=2)\n",
        "model.fit(X,y)\n",
        "y_pred3=model.predict(X_test)"
      ],
      "metadata": {
        "execution": {
          "iopub.status.busy": "2024-07-22T13:02:02.24306Z",
          "iopub.execute_input": "2024-07-22T13:02:02.24351Z",
          "iopub.status.idle": "2024-07-22T13:14:18.095698Z",
          "shell.execute_reply.started": "2024-07-22T13:02:02.243476Z",
          "shell.execute_reply": "2024-07-22T13:14:18.094175Z"
        },
        "trusted": true,
        "id": "NX3m9duVclq8",
        "outputId": "12ab1c81-4b3f-4d9e-de08-cd7b99c7d850"
      },
      "outputs": [
        {
          "name": "stdout",
          "text": "building tree 1 of 10\nbuilding tree 2 of 10\nbuilding tree 3 of 10\nbuilding tree 4 of 10\nbuilding tree 5 of 10\nbuilding tree 6 of 10\nbuilding tree 7 of 10\nbuilding tree 8 of 10\nbuilding tree 9 of 10\nbuilding tree 10 of 10\n",
          "output_type": "stream"
        }
      ],
      "execution_count": null
    },
    {
      "cell_type": "code",
      "source": [
        "from sklearn.metrics import accuracy_score\n",
        "acc=accuracy_score(y_pred3,y_test)\n",
        "print(\"Accuracy:\",acc)"
      ],
      "metadata": {
        "execution": {
          "iopub.status.busy": "2024-07-22T13:14:18.097893Z",
          "iopub.execute_input": "2024-07-22T13:14:18.098425Z",
          "iopub.status.idle": "2024-07-22T13:14:18.361071Z",
          "shell.execute_reply.started": "2024-07-22T13:14:18.098357Z",
          "shell.execute_reply": "2024-07-22T13:14:18.359406Z"
        },
        "trusted": true,
        "id": "CgtOI8Hsclq8",
        "outputId": "96cd33e7-44e1-4c56-a552-04de9c122e58"
      },
      "outputs": [
        {
          "name": "stdout",
          "text": "Accuracy: 0.9870341075029553\n",
          "output_type": "stream"
        }
      ],
      "execution_count": null
    },
    {
      "cell_type": "markdown",
      "source": [
        "# ensemble and prediction"
      ],
      "metadata": {
        "id": "qhHD-vecclq8"
      }
    },
    {
      "cell_type": "code",
      "source": [
        "final_pred=(y_pred1+y_pred3)/2\n",
        "y_pred=final_pred\n"
      ],
      "metadata": {
        "execution": {
          "iopub.status.busy": "2024-07-30T13:53:31.817259Z",
          "iopub.execute_input": "2024-07-30T13:53:31.817723Z",
          "iopub.status.idle": "2024-07-30T13:53:31.856706Z",
          "shell.execute_reply.started": "2024-07-30T13:53:31.817691Z",
          "shell.execute_reply": "2024-07-30T13:53:31.855243Z"
        },
        "trusted": true,
        "id": "tKk5estTclq8"
      },
      "outputs": [],
      "execution_count": null
    },
    {
      "cell_type": "code",
      "source": [
        "from sklearn.metrics import accuracy_score\n",
        "acc2=accuracy_score(y_pred,y_test)\n",
        "print(\"Accuracy:\",acc2)"
      ],
      "metadata": {
        "execution": {
          "iopub.status.busy": "2024-07-29T12:02:21.274308Z",
          "iopub.execute_input": "2024-07-29T12:02:21.274726Z",
          "iopub.status.idle": "2024-07-29T12:02:21.882844Z",
          "shell.execute_reply.started": "2024-07-29T12:02:21.274694Z",
          "shell.execute_reply": "2024-07-29T12:02:21.881773Z"
        },
        "trusted": true,
        "id": "MpOoZJxGclq8",
        "outputId": "cbc747e2-7747-441d-eb1b-9c4dc571ca3a"
      },
      "outputs": [
        {
          "name": "stdout",
          "text": "Accuracy: 0.8766727800570197\n",
          "output_type": "stream"
        }
      ],
      "execution_count": null
    },
    {
      "cell_type": "code",
      "source": [
        "y_pred1=xgb_model.predict_proba(df_test)[:,1]\n",
        "y_pred3=lgb_model.predict_proba(df_test)[:,1]\n",
        "#y_pred3=model.predict_proba(df_test)[:,1]"
      ],
      "metadata": {
        "execution": {
          "iopub.status.busy": "2024-07-30T13:48:10.001233Z",
          "iopub.execute_input": "2024-07-30T13:48:10.001676Z",
          "iopub.status.idle": "2024-07-30T13:52:52.533142Z",
          "shell.execute_reply.started": "2024-07-30T13:48:10.001639Z",
          "shell.execute_reply": "2024-07-30T13:52:52.532185Z"
        },
        "trusted": true,
        "id": "BKjsS5bPclq8"
      },
      "outputs": [],
      "execution_count": null
    },
    {
      "cell_type": "code",
      "source": [
        "y_predrnforest=model.predict_proba(df_test)"
      ],
      "metadata": {
        "execution": {
          "iopub.status.busy": "2024-07-22T13:45:46.271211Z",
          "iopub.execute_input": "2024-07-22T13:45:46.272662Z",
          "iopub.status.idle": "2024-07-22T13:46:32.260259Z",
          "shell.execute_reply.started": "2024-07-22T13:45:46.272617Z",
          "shell.execute_reply": "2024-07-22T13:46:32.258909Z"
        },
        "trusted": true,
        "id": "JqxRyoz2clq8"
      },
      "outputs": [],
      "execution_count": null
    },
    {
      "cell_type": "code",
      "source": [
        "y_predrnforest=y_predrnforest[:,1]\n",
        "y_predrnforest"
      ],
      "metadata": {
        "execution": {
          "iopub.status.busy": "2024-07-22T13:46:45.825548Z",
          "iopub.execute_input": "2024-07-22T13:46:45.825962Z",
          "iopub.status.idle": "2024-07-22T13:46:45.834267Z",
          "shell.execute_reply.started": "2024-07-22T13:46:45.825931Z",
          "shell.execute_reply": "2024-07-22T13:46:45.832776Z"
        },
        "trusted": true,
        "id": "hanDEgMfclq9",
        "outputId": "a2043345-cdce-4b3b-b3cc-3da5a00e4e44"
      },
      "outputs": [
        {
          "execution_count": 93,
          "output_type": "execute_result",
          "data": {
            "text/plain": "array([0.3, 0.3, 0.7, ..., 0. , 0.5, 0. ])"
          },
          "metadata": {}
        }
      ],
      "execution_count": null
    },
    {
      "cell_type": "code",
      "source": [
        "df_submission=pd.read_csv(\"/kaggle/input/playground-series-s4e7/sample_submission.csv\")\n",
        "pred=pd.DataFrame(y_pred)\n",
        "datasets2=pd.concat([df_submission['id'],pred],axis=1)\n",
        "datasets2.columns=['id','Response']\n",
        "datasets2\n",
        "datasets2.to_csv('submissionproba5.csv',index=False)"
      ],
      "metadata": {
        "execution": {
          "iopub.status.busy": "2024-07-30T13:53:38.930357Z",
          "iopub.execute_input": "2024-07-30T13:53:38.930735Z",
          "iopub.status.idle": "2024-07-30T13:53:59.708176Z",
          "shell.execute_reply.started": "2024-07-30T13:53:38.930707Z",
          "shell.execute_reply": "2024-07-30T13:53:59.706964Z"
        },
        "trusted": true,
        "id": "Fnjm-0oZclq9"
      },
      "outputs": [],
      "execution_count": null
    },
    {
      "cell_type": "code",
      "source": [
        "pred=pd.DataFrame(y_pred)\n",
        "sub_df=pd.read_csv('/kaggle/input/playground-series-s4e7/sample_submission.csv')\n",
        "datasets=pd.concat([sub_df['id'],pred],axis=1)\n",
        "datasets.columns=['id','Response']\n",
        "datasets"
      ],
      "metadata": {
        "execution": {
          "iopub.status.busy": "2024-07-22T13:26:21.248027Z",
          "iopub.execute_input": "2024-07-22T13:26:21.248507Z",
          "iopub.status.idle": "2024-07-22T13:26:23.275447Z",
          "shell.execute_reply.started": "2024-07-22T13:26:21.248469Z",
          "shell.execute_reply": "2024-07-22T13:26:23.274175Z"
        },
        "trusted": true,
        "id": "-Auw2cvVclq9",
        "outputId": "3ed6137f-1bfb-4b56-b639-133191646e8a"
      },
      "outputs": [
        {
          "execution_count": 78,
          "output_type": "execute_result",
          "data": {
            "text/plain": "               id  Response\n0        11504798         0\n1        11504799         0\n2        11504800         0\n3        11504801         0\n4        11504802         0\n...           ...       ...\n7669861  19174659         0\n7669862  19174660         0\n7669863  19174661         0\n7669864  19174662         0\n7669865  19174663         0\n\n[7669866 rows x 2 columns]",
            "text/html": "<div>\n<style scoped>\n    .dataframe tbody tr th:only-of-type {\n        vertical-align: middle;\n    }\n\n    .dataframe tbody tr th {\n        vertical-align: top;\n    }\n\n    .dataframe thead th {\n        text-align: right;\n    }\n</style>\n<table border=\"1\" class=\"dataframe\">\n  <thead>\n    <tr style=\"text-align: right;\">\n      <th></th>\n      <th>id</th>\n      <th>Response</th>\n    </tr>\n  </thead>\n  <tbody>\n    <tr>\n      <th>0</th>\n      <td>11504798</td>\n      <td>0</td>\n    </tr>\n    <tr>\n      <th>1</th>\n      <td>11504799</td>\n      <td>0</td>\n    </tr>\n    <tr>\n      <th>2</th>\n      <td>11504800</td>\n      <td>0</td>\n    </tr>\n    <tr>\n      <th>3</th>\n      <td>11504801</td>\n      <td>0</td>\n    </tr>\n    <tr>\n      <th>4</th>\n      <td>11504802</td>\n      <td>0</td>\n    </tr>\n    <tr>\n      <th>...</th>\n      <td>...</td>\n      <td>...</td>\n    </tr>\n    <tr>\n      <th>7669861</th>\n      <td>19174659</td>\n      <td>0</td>\n    </tr>\n    <tr>\n      <th>7669862</th>\n      <td>19174660</td>\n      <td>0</td>\n    </tr>\n    <tr>\n      <th>7669863</th>\n      <td>19174661</td>\n      <td>0</td>\n    </tr>\n    <tr>\n      <th>7669864</th>\n      <td>19174662</td>\n      <td>0</td>\n    </tr>\n    <tr>\n      <th>7669865</th>\n      <td>19174663</td>\n      <td>0</td>\n    </tr>\n  </tbody>\n</table>\n<p>7669866 rows × 2 columns</p>\n</div>"
          },
          "metadata": {}
        }
      ],
      "execution_count": null
    },
    {
      "cell_type": "code",
      "source": [
        "datasets.to_csv('submission1.csv')"
      ],
      "metadata": {
        "execution": {
          "iopub.status.busy": "2024-07-22T13:26:26.446293Z",
          "iopub.execute_input": "2024-07-22T13:26:26.447415Z",
          "iopub.status.idle": "2024-07-22T13:26:42.608321Z",
          "shell.execute_reply.started": "2024-07-22T13:26:26.447356Z",
          "shell.execute_reply": "2024-07-22T13:26:42.606966Z"
        },
        "trusted": true,
        "id": "7auwNnxxclq9"
      },
      "outputs": [],
      "execution_count": null
    },
    {
      "cell_type": "markdown",
      "source": [
        "# Cross validation"
      ],
      "metadata": {
        "id": "0YS89gdFclq9"
      }
    },
    {
      "cell_type": "code",
      "source": [
        "from sklearn.model_selection import StratifiedKFold\n",
        "from sklearn.metrics import roc_auc_score"
      ],
      "metadata": {
        "id": "TsytrIgGclq9"
      },
      "outputs": [],
      "execution_count": null
    },
    {
      "cell_type": "code",
      "source": [
        "skf = StratifiedKFold(n_splits=5, shuffle=True, random_state=42)"
      ],
      "metadata": {
        "id": "ngOk_JWDclq9"
      },
      "outputs": [],
      "execution_count": null
    },
    {
      "cell_type": "code",
      "source": [
        "oof_preds = np.zeros((X.shape[0], len(np.unique(y))))\n",
        "\n",
        "# Perform Stratified K-Fold Cross-Validation\n",
        "for train_index, test_index in skf.split(X, y):\n",
        "    X_train, X_test = X[train_index], X[test_index]\n",
        "    y_train, y_test = y[train_index], y[test_index]\n",
        "\n",
        "    model.fit(X_train, y_train)\n",
        "    oof_preds[test_index] = model.predict_proba(X_test)\n",
        "\n",
        "# Evaluate the model\n",
        "auc = roc_auc_score(y, oof_preds, multi_class='ovo')\n",
        "print(f\"Out-of-Fold ROC AUC Score: {auc}\")"
      ],
      "metadata": {
        "id": "YHm9TCNDclq-"
      },
      "outputs": [],
      "execution_count": null
    }
  ]
}